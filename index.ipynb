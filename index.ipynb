{
 "cells": [
  {
   "attachments": {},
   "cell_type": "markdown",
   "metadata": {},
   "source": [
    "# PHASE 1 FINAL PROJECT\n",
    "\n",
    "### INTRODUCTION\n",
    "Microsoft has seen other companies have success in the movie industry and has decided to open its movie studio. It however knows nothing about the movie industry. It has decided to hire you as a Data Scientist to determine the type of films which are most popular at the Box Office. You are then supposed to convert your findings into actionable insights which you are supposed to give to the head of the new movie studio of Microsoft.\n",
    "\n",
    "### OBJECTIVES\n",
    "The objective of this project is to:\n",
    "- Analyse data to determine the type of films which do best at the box office.\n",
    "- Transform findings to actionable insights to give to head of new Microsoft movie studios.\n",
    "- Use findings to come up with 3 recommendations with visualisations which is to be given to the head of the movie studio."
   ]
  },
  {
   "attachments": {},
   "cell_type": "markdown",
   "metadata": {},
   "source": [
    "## BUSINESS UNDERSTADING\n",
    "\n",
    "This is the thorough understanding of the problem at hand, so that the respective Data Scientist/scientists can come up with a solution that effectively solves the problem. The business understanding of a Data Science problem is split into various parts which are:\n",
    "1. Problem Statement\n",
    "2. Measure of success\n",
    "\n",
    "### PROBLEM STATEMENT\n",
    "This is the problem in which as a Data Scientist one is trying to solve. In the case of this project by **Microsoft**, the issue is to determine the type of movies doing best at the box office. The Data Scientist is to then use his findings to provide actionable insights in the form of three recommendations with visualisations. The head of Microsoft's new movie studio is to then use these findings, to know which type of movies to make.\n",
    "\n",
    "### MEASUREMENT OF SUCCESS\n",
    "This is the measure of success of the project in relation to the problem statement and the business understanding. For this particular problem here is our measurement of success. To uncover actionable insights through exploratory data analysis (EDA) to identify the types of films that have achieved the highest levels of success at the box office. Success will be measured by analyzing various factors such as box office revenue, audience ratings, genre popularity, and critical acclaim. The goal of this analysis, is to gain a comprehensive understanding of the characteristics and attributes that contribute to a movie's success. This will enable Microsoft's new movie studio to make informed decisions about the types of films they should produce. The success of the project will be reflected in the quality and relevance of the insights generated, which will provide valuable guidance for Microsoft's strategic planning in the movie industry.\n"
   ]
  },
  {
   "attachments": {},
   "cell_type": "markdown",
   "metadata": {},
   "source": [
    "## DATA UNDERSTANDING\n",
    "Data Understanding is a crucial phase in the Data Science process where the Data Scientist dives deep into the available data, aiming to gain a comprehensive understanding of its characteristics, quality, and relevance to the defined problem. This involves exploring the data, identifying patterns and trends, assessing data quality and completeness, and gaining insights that will inform subsequent steps in the analysis. By thoroughly understanding the data, the Data Scientist can make informed decisions on how to preprocess, analyze, and model the data to extract meaningful insights and solve the problem effectively.\n",
    "\n",
    "For the problem we are trying to solve this can involve several steps as shown below:"
   ]
  },
  {
   "attachments": {},
   "cell_type": "markdown",
   "metadata": {},
   "source": [
    "### 1. Familiarising ourselves with the data.\n",
    "\n",
    "For the problem at hand, the data relevant to the question was split into two parts. A database file called **im.db** which is a database of movies released with the following relevant tables:\n",
    "- Movie Basics\n",
    "- Movie ratings\n",
    "\n",
    "The second part are three csv files:\n",
    "- bom.movie_gross.csv\n",
    "- rt.reviews.tsv\n",
    "- title.ratings.csv\n",
    "- MovieData.csv\n",
    "\n",
    "Other data has been provided if needed for further analysis."
   ]
  },
  {
   "attachments": {},
   "cell_type": "markdown",
   "metadata": {},
   "source": [
    "### 2. Importing libraries\n",
    "We then load the libraries that are to be used."
   ]
  },
  {
   "cell_type": "code",
   "execution_count": 1,
   "metadata": {},
   "outputs": [],
   "source": [
    "# Importing libraries\n",
    "import pandas as pd\n",
    "import sqlite3\n",
    "import matplotlib.pyplot as plt\n",
    "%matplotlib inline"
   ]
  },
  {
   "attachments": {},
   "cell_type": "markdown",
   "metadata": {},
   "source": [
    "### 3. Loading the data\n",
    "Finally we load the data itself to see what we are dealing with"
   ]
  },
  {
   "cell_type": "code",
   "execution_count": 2,
   "metadata": {},
   "outputs": [],
   "source": [
    "# Connecting to the database\n",
    "conn = sqlite3.connect(r'C:\\Users\\USER\\Desktop\\database\\im.db')"
   ]
  },
  {
   "cell_type": "code",
   "execution_count": 3,
   "metadata": {},
   "outputs": [
    {
     "data": {
      "text/html": [
       "<div>\n",
       "<style scoped>\n",
       "    .dataframe tbody tr th:only-of-type {\n",
       "        vertical-align: middle;\n",
       "    }\n",
       "\n",
       "    .dataframe tbody tr th {\n",
       "        vertical-align: top;\n",
       "    }\n",
       "\n",
       "    .dataframe thead th {\n",
       "        text-align: right;\n",
       "    }\n",
       "</style>\n",
       "<table border=\"1\" class=\"dataframe\">\n",
       "  <thead>\n",
       "    <tr style=\"text-align: right;\">\n",
       "      <th></th>\n",
       "      <th>type</th>\n",
       "      <th>name</th>\n",
       "      <th>tbl_name</th>\n",
       "      <th>rootpage</th>\n",
       "      <th>sql</th>\n",
       "    </tr>\n",
       "  </thead>\n",
       "  <tbody>\n",
       "    <tr>\n",
       "      <th>0</th>\n",
       "      <td>table</td>\n",
       "      <td>movie_basics</td>\n",
       "      <td>movie_basics</td>\n",
       "      <td>2</td>\n",
       "      <td>CREATE TABLE \"movie_basics\" (\\n\"movie_id\" TEXT...</td>\n",
       "    </tr>\n",
       "    <tr>\n",
       "      <th>1</th>\n",
       "      <td>table</td>\n",
       "      <td>directors</td>\n",
       "      <td>directors</td>\n",
       "      <td>3</td>\n",
       "      <td>CREATE TABLE \"directors\" (\\n\"movie_id\" TEXT,\\n...</td>\n",
       "    </tr>\n",
       "    <tr>\n",
       "      <th>2</th>\n",
       "      <td>table</td>\n",
       "      <td>known_for</td>\n",
       "      <td>known_for</td>\n",
       "      <td>4</td>\n",
       "      <td>CREATE TABLE \"known_for\" (\\n\"person_id\" TEXT,\\...</td>\n",
       "    </tr>\n",
       "    <tr>\n",
       "      <th>3</th>\n",
       "      <td>table</td>\n",
       "      <td>movie_akas</td>\n",
       "      <td>movie_akas</td>\n",
       "      <td>5</td>\n",
       "      <td>CREATE TABLE \"movie_akas\" (\\n\"movie_id\" TEXT,\\...</td>\n",
       "    </tr>\n",
       "    <tr>\n",
       "      <th>4</th>\n",
       "      <td>table</td>\n",
       "      <td>movie_ratings</td>\n",
       "      <td>movie_ratings</td>\n",
       "      <td>6</td>\n",
       "      <td>CREATE TABLE \"movie_ratings\" (\\n\"movie_id\" TEX...</td>\n",
       "    </tr>\n",
       "    <tr>\n",
       "      <th>5</th>\n",
       "      <td>table</td>\n",
       "      <td>persons</td>\n",
       "      <td>persons</td>\n",
       "      <td>7</td>\n",
       "      <td>CREATE TABLE \"persons\" (\\n\"person_id\" TEXT,\\n ...</td>\n",
       "    </tr>\n",
       "    <tr>\n",
       "      <th>6</th>\n",
       "      <td>table</td>\n",
       "      <td>principals</td>\n",
       "      <td>principals</td>\n",
       "      <td>8</td>\n",
       "      <td>CREATE TABLE \"principals\" (\\n\"movie_id\" TEXT,\\...</td>\n",
       "    </tr>\n",
       "    <tr>\n",
       "      <th>7</th>\n",
       "      <td>table</td>\n",
       "      <td>writers</td>\n",
       "      <td>writers</td>\n",
       "      <td>9</td>\n",
       "      <td>CREATE TABLE \"writers\" (\\n\"movie_id\" TEXT,\\n  ...</td>\n",
       "    </tr>\n",
       "  </tbody>\n",
       "</table>\n",
       "</div>"
      ],
      "text/plain": [
       "    type           name       tbl_name  rootpage   \n",
       "0  table   movie_basics   movie_basics         2  \\\n",
       "1  table      directors      directors         3   \n",
       "2  table      known_for      known_for         4   \n",
       "3  table     movie_akas     movie_akas         5   \n",
       "4  table  movie_ratings  movie_ratings         6   \n",
       "5  table        persons        persons         7   \n",
       "6  table     principals     principals         8   \n",
       "7  table        writers        writers         9   \n",
       "\n",
       "                                                 sql  \n",
       "0  CREATE TABLE \"movie_basics\" (\\n\"movie_id\" TEXT...  \n",
       "1  CREATE TABLE \"directors\" (\\n\"movie_id\" TEXT,\\n...  \n",
       "2  CREATE TABLE \"known_for\" (\\n\"person_id\" TEXT,\\...  \n",
       "3  CREATE TABLE \"movie_akas\" (\\n\"movie_id\" TEXT,\\...  \n",
       "4  CREATE TABLE \"movie_ratings\" (\\n\"movie_id\" TEX...  \n",
       "5  CREATE TABLE \"persons\" (\\n\"person_id\" TEXT,\\n ...  \n",
       "6  CREATE TABLE \"principals\" (\\n\"movie_id\" TEXT,\\...  \n",
       "7  CREATE TABLE \"writers\" (\\n\"movie_id\" TEXT,\\n  ...  "
      ]
     },
     "execution_count": 3,
     "metadata": {},
     "output_type": "execute_result"
    }
   ],
   "source": [
    "# Seeing the tables in the database\n",
    "pd.read_sql('SELECT * FROM sqlite_master;', conn)"
   ]
  },
  {
   "cell_type": "code",
   "execution_count": 4,
   "metadata": {},
   "outputs": [
    {
     "data": {
      "text/html": [
       "<div>\n",
       "<style scoped>\n",
       "    .dataframe tbody tr th:only-of-type {\n",
       "        vertical-align: middle;\n",
       "    }\n",
       "\n",
       "    .dataframe tbody tr th {\n",
       "        vertical-align: top;\n",
       "    }\n",
       "\n",
       "    .dataframe thead th {\n",
       "        text-align: right;\n",
       "    }\n",
       "</style>\n",
       "<table border=\"1\" class=\"dataframe\">\n",
       "  <thead>\n",
       "    <tr style=\"text-align: right;\">\n",
       "      <th></th>\n",
       "      <th>movie_id</th>\n",
       "      <th>averagerating</th>\n",
       "      <th>numvotes</th>\n",
       "    </tr>\n",
       "  </thead>\n",
       "  <tbody>\n",
       "    <tr>\n",
       "      <th>0</th>\n",
       "      <td>tt10356526</td>\n",
       "      <td>8.3</td>\n",
       "      <td>31</td>\n",
       "    </tr>\n",
       "    <tr>\n",
       "      <th>1</th>\n",
       "      <td>tt10384606</td>\n",
       "      <td>8.9</td>\n",
       "      <td>559</td>\n",
       "    </tr>\n",
       "    <tr>\n",
       "      <th>2</th>\n",
       "      <td>tt1042974</td>\n",
       "      <td>6.4</td>\n",
       "      <td>20</td>\n",
       "    </tr>\n",
       "    <tr>\n",
       "      <th>3</th>\n",
       "      <td>tt1043726</td>\n",
       "      <td>4.2</td>\n",
       "      <td>50352</td>\n",
       "    </tr>\n",
       "    <tr>\n",
       "      <th>4</th>\n",
       "      <td>tt1060240</td>\n",
       "      <td>6.5</td>\n",
       "      <td>21</td>\n",
       "    </tr>\n",
       "    <tr>\n",
       "      <th>...</th>\n",
       "      <td>...</td>\n",
       "      <td>...</td>\n",
       "      <td>...</td>\n",
       "    </tr>\n",
       "    <tr>\n",
       "      <th>73851</th>\n",
       "      <td>tt9805820</td>\n",
       "      <td>8.1</td>\n",
       "      <td>25</td>\n",
       "    </tr>\n",
       "    <tr>\n",
       "      <th>73852</th>\n",
       "      <td>tt9844256</td>\n",
       "      <td>7.5</td>\n",
       "      <td>24</td>\n",
       "    </tr>\n",
       "    <tr>\n",
       "      <th>73853</th>\n",
       "      <td>tt9851050</td>\n",
       "      <td>4.7</td>\n",
       "      <td>14</td>\n",
       "    </tr>\n",
       "    <tr>\n",
       "      <th>73854</th>\n",
       "      <td>tt9886934</td>\n",
       "      <td>7.0</td>\n",
       "      <td>5</td>\n",
       "    </tr>\n",
       "    <tr>\n",
       "      <th>73855</th>\n",
       "      <td>tt9894098</td>\n",
       "      <td>6.3</td>\n",
       "      <td>128</td>\n",
       "    </tr>\n",
       "  </tbody>\n",
       "</table>\n",
       "<p>73856 rows × 3 columns</p>\n",
       "</div>"
      ],
      "text/plain": [
       "         movie_id  averagerating  numvotes\n",
       "0      tt10356526            8.3        31\n",
       "1      tt10384606            8.9       559\n",
       "2       tt1042974            6.4        20\n",
       "3       tt1043726            4.2     50352\n",
       "4       tt1060240            6.5        21\n",
       "...           ...            ...       ...\n",
       "73851   tt9805820            8.1        25\n",
       "73852   tt9844256            7.5        24\n",
       "73853   tt9851050            4.7        14\n",
       "73854   tt9886934            7.0         5\n",
       "73855   tt9894098            6.3       128\n",
       "\n",
       "[73856 rows x 3 columns]"
      ]
     },
     "execution_count": 4,
     "metadata": {},
     "output_type": "execute_result"
    }
   ],
   "source": [
    "# First the relevant tables in the im.db database\n",
    "movie_basics = pd.read_sql('SELECT * FROM movie_basics;', conn)\n",
    "movie_ratings = pd.read_sql('SELECT * FROM movie_ratings;', conn)\n",
    "\n",
    "# Then the relevant csv files\n",
    "gross_data = pd.read_csv('bom.movie_gross.csv')\n",
    "ratings_data = pd.read_csv('title.ratings.csv')\n",
    "budgets_data = pd.read_csv('tn.movie_budgets.csv')\n",
    "movie_data = pd.read_csv('MovieData.csv')\n",
    "\n",
    "# Checking one of the tables in the database to see if the connection was successful.\n",
    "movie_ratings"
   ]
  },
  {
   "attachments": {},
   "cell_type": "markdown",
   "metadata": {},
   "source": [
    "## DATA PREPARATION\n",
    "\n",
    "Data preparation is an essential step following data understanding in the Data Science cycle. It involves preparing the data for analysis through meticulous data cleaning tasks. The key objectives of data preparation include:\n",
    "\n",
    "- **Removing outliers**: Identification and removal of data points that deviate significantly from the overall distribution, as they can adversely impact analysis results.\n",
    "\n",
    "- **Handling missing values**: Thoroughly checking for missing values and employing appropriate strategies to handle them, such as imputation techniques or assessing the suitability of the missing data for analysis.\n",
    "\n",
    "- **Identifying and resolving duplicates**: Identifying and removing duplicate records to ensure data integrity and avoid bias in analysis outcomes.\n",
    "\n",
    "- **Assessing columns with excessive missing values**: Evaluating columns with a substantial number of missing values and determining their relevance to the analysis. Dropping columns that are not essential or exploring alternative strategies for handling missing data.\n",
    "\n",
    "\n",
    "- **Correcting data types**: Verifying and correcting the data types of variables to align them with their intended representation (e.g., converting numerical data from strings to numeric types).\n",
    "\n",
    "Data preparation is an iterative and time-consuming process, as it aims to refine the data into an optimal state before analysis. By addressing data quality issues and standardizing formats data preparation ensures that subsequent analysis yields accurate and reliable insights.\n",
    "\n",
    "For the data at hand we shall now begin the process of data cleaning for each table stated in the Data Understanding section.\n"
   ]
  },
  {
   "attachments": {},
   "cell_type": "markdown",
   "metadata": {},
   "source": [
    "Starting with the tables from the im.db database"
   ]
  },
  {
   "attachments": {},
   "cell_type": "markdown",
   "metadata": {},
   "source": [
    " ## 1. Movie Basics\n",
    "\n",
    "**1.First we handle the missing values**"
   ]
  },
  {
   "cell_type": "code",
   "execution_count": 5,
   "metadata": {},
   "outputs": [
    {
     "name": "stdout",
     "output_type": "stream",
     "text": [
      "<class 'pandas.core.frame.DataFrame'>\n",
      "RangeIndex: 146144 entries, 0 to 146143\n",
      "Data columns (total 6 columns):\n",
      " #   Column           Non-Null Count   Dtype  \n",
      "---  ------           --------------   -----  \n",
      " 0   movie_id         146144 non-null  object \n",
      " 1   primary_title    146144 non-null  object \n",
      " 2   original_title   146123 non-null  object \n",
      " 3   start_year       146144 non-null  int64  \n",
      " 4   runtime_minutes  114405 non-null  float64\n",
      " 5   genres           140736 non-null  object \n",
      "dtypes: float64(1), int64(1), object(4)\n",
      "memory usage: 6.7+ MB\n"
     ]
    }
   ],
   "source": [
    "# Looking at the general info of the table\n",
    "movie_basics.info()"
   ]
  },
  {
   "cell_type": "code",
   "execution_count": 6,
   "metadata": {},
   "outputs": [
    {
     "data": {
      "text/plain": [
       "movie_id               0\n",
       "primary_title          0\n",
       "original_title        21\n",
       "start_year             0\n",
       "runtime_minutes    31739\n",
       "genres              5408\n",
       "dtype: int64"
      ]
     },
     "execution_count": 6,
     "metadata": {},
     "output_type": "execute_result"
    }
   ],
   "source": [
    "# Checking for missing values\n",
    "movie_basics.isnull().sum() # runtime_minutes, genres and original_title have missing values"
   ]
  },
  {
   "cell_type": "code",
   "execution_count": 7,
   "metadata": {},
   "outputs": [
    {
     "data": {
      "text/html": [
       "<div>\n",
       "<style scoped>\n",
       "    .dataframe tbody tr th:only-of-type {\n",
       "        vertical-align: middle;\n",
       "    }\n",
       "\n",
       "    .dataframe tbody tr th {\n",
       "        vertical-align: top;\n",
       "    }\n",
       "\n",
       "    .dataframe thead th {\n",
       "        text-align: right;\n",
       "    }\n",
       "</style>\n",
       "<table border=\"1\" class=\"dataframe\">\n",
       "  <thead>\n",
       "    <tr style=\"text-align: right;\">\n",
       "      <th></th>\n",
       "      <th>movie_id</th>\n",
       "      <th>primary_title</th>\n",
       "      <th>original_title</th>\n",
       "      <th>start_year</th>\n",
       "      <th>genres</th>\n",
       "    </tr>\n",
       "  </thead>\n",
       "  <tbody>\n",
       "    <tr>\n",
       "      <th>0</th>\n",
       "      <td>tt0063540</td>\n",
       "      <td>Sunghursh</td>\n",
       "      <td>Sunghursh</td>\n",
       "      <td>2013</td>\n",
       "      <td>Action,Crime,Drama</td>\n",
       "    </tr>\n",
       "    <tr>\n",
       "      <th>1</th>\n",
       "      <td>tt0066787</td>\n",
       "      <td>One Day Before the Rainy Season</td>\n",
       "      <td>Ashad Ka Ek Din</td>\n",
       "      <td>2019</td>\n",
       "      <td>Biography,Drama</td>\n",
       "    </tr>\n",
       "    <tr>\n",
       "      <th>2</th>\n",
       "      <td>tt0069049</td>\n",
       "      <td>The Other Side of the Wind</td>\n",
       "      <td>The Other Side of the Wind</td>\n",
       "      <td>2018</td>\n",
       "      <td>Drama</td>\n",
       "    </tr>\n",
       "    <tr>\n",
       "      <th>3</th>\n",
       "      <td>tt0069204</td>\n",
       "      <td>Sabse Bada Sukh</td>\n",
       "      <td>Sabse Bada Sukh</td>\n",
       "      <td>2018</td>\n",
       "      <td>Comedy,Drama</td>\n",
       "    </tr>\n",
       "    <tr>\n",
       "      <th>4</th>\n",
       "      <td>tt0100275</td>\n",
       "      <td>The Wandering Soap Opera</td>\n",
       "      <td>La Telenovela Errante</td>\n",
       "      <td>2017</td>\n",
       "      <td>Comedy,Drama,Fantasy</td>\n",
       "    </tr>\n",
       "    <tr>\n",
       "      <th>...</th>\n",
       "      <td>...</td>\n",
       "      <td>...</td>\n",
       "      <td>...</td>\n",
       "      <td>...</td>\n",
       "      <td>...</td>\n",
       "    </tr>\n",
       "    <tr>\n",
       "      <th>146139</th>\n",
       "      <td>tt9916538</td>\n",
       "      <td>Kuambil Lagi Hatiku</td>\n",
       "      <td>Kuambil Lagi Hatiku</td>\n",
       "      <td>2019</td>\n",
       "      <td>Drama</td>\n",
       "    </tr>\n",
       "    <tr>\n",
       "      <th>146140</th>\n",
       "      <td>tt9916622</td>\n",
       "      <td>Rodolpho Teóphilo - O Legado de um Pioneiro</td>\n",
       "      <td>Rodolpho Teóphilo - O Legado de um Pioneiro</td>\n",
       "      <td>2015</td>\n",
       "      <td>Documentary</td>\n",
       "    </tr>\n",
       "    <tr>\n",
       "      <th>146141</th>\n",
       "      <td>tt9916706</td>\n",
       "      <td>Dankyavar Danka</td>\n",
       "      <td>Dankyavar Danka</td>\n",
       "      <td>2013</td>\n",
       "      <td>Comedy</td>\n",
       "    </tr>\n",
       "    <tr>\n",
       "      <th>146142</th>\n",
       "      <td>tt9916730</td>\n",
       "      <td>6 Gunn</td>\n",
       "      <td>6 Gunn</td>\n",
       "      <td>2017</td>\n",
       "      <td>None</td>\n",
       "    </tr>\n",
       "    <tr>\n",
       "      <th>146143</th>\n",
       "      <td>tt9916754</td>\n",
       "      <td>Chico Albuquerque - Revelações</td>\n",
       "      <td>Chico Albuquerque - Revelações</td>\n",
       "      <td>2013</td>\n",
       "      <td>Documentary</td>\n",
       "    </tr>\n",
       "  </tbody>\n",
       "</table>\n",
       "<p>146144 rows × 5 columns</p>\n",
       "</div>"
      ],
      "text/plain": [
       "         movie_id                                primary_title   \n",
       "0       tt0063540                                    Sunghursh  \\\n",
       "1       tt0066787              One Day Before the Rainy Season   \n",
       "2       tt0069049                   The Other Side of the Wind   \n",
       "3       tt0069204                              Sabse Bada Sukh   \n",
       "4       tt0100275                     The Wandering Soap Opera   \n",
       "...           ...                                          ...   \n",
       "146139  tt9916538                          Kuambil Lagi Hatiku   \n",
       "146140  tt9916622  Rodolpho Teóphilo - O Legado de um Pioneiro   \n",
       "146141  tt9916706                              Dankyavar Danka   \n",
       "146142  tt9916730                                       6 Gunn   \n",
       "146143  tt9916754               Chico Albuquerque - Revelações   \n",
       "\n",
       "                                     original_title  start_year   \n",
       "0                                         Sunghursh        2013  \\\n",
       "1                                   Ashad Ka Ek Din        2019   \n",
       "2                        The Other Side of the Wind        2018   \n",
       "3                                   Sabse Bada Sukh        2018   \n",
       "4                             La Telenovela Errante        2017   \n",
       "...                                             ...         ...   \n",
       "146139                          Kuambil Lagi Hatiku        2019   \n",
       "146140  Rodolpho Teóphilo - O Legado de um Pioneiro        2015   \n",
       "146141                              Dankyavar Danka        2013   \n",
       "146142                                       6 Gunn        2017   \n",
       "146143               Chico Albuquerque - Revelações        2013   \n",
       "\n",
       "                      genres  \n",
       "0         Action,Crime,Drama  \n",
       "1            Biography,Drama  \n",
       "2                      Drama  \n",
       "3               Comedy,Drama  \n",
       "4       Comedy,Drama,Fantasy  \n",
       "...                      ...  \n",
       "146139                 Drama  \n",
       "146140           Documentary  \n",
       "146141                Comedy  \n",
       "146142                  None  \n",
       "146143           Documentary  \n",
       "\n",
       "[146144 rows x 5 columns]"
      ]
     },
     "execution_count": 7,
     "metadata": {},
     "output_type": "execute_result"
    }
   ],
   "source": [
    "# Dropping the runtime minutes as it has too many null values and there is no correlation between how long a movie is and its success at the box office\n",
    "# movie_basics.drop(['runtime_minutes'], axis=1, inplace=True)\n",
    "movie_basics  # Column has been dropped"
   ]
  },
  {
   "cell_type": "code",
   "execution_count": 8,
   "metadata": {},
   "outputs": [
    {
     "name": "stdout",
     "output_type": "stream",
     "text": [
      "The percentage of missing values is 3.7004598204510617 %\n"
     ]
    }
   ],
   "source": [
    "# Now the genres column is a bit tricky since the goal is to determine what type of films do best at the box office.\n",
    "# Finding percentage of missing values in genre column\n",
    "\n",
    "# First isolating the missing values using filtering\n",
    "missing_values = movie_basics['genres'][movie_basics['genres'].isnull()]\n",
    "\n",
    "# Then finding the total no divided by the total no of the whole column then multiplying by 100.\n",
    "percentage_missing = (len(missing_values) / len(movie_basics['genres'])) * 100\n",
    "\n",
    "# Printing our results\n",
    "print('The percentage of missing values is',percentage_missing,'%')"
   ]
  },
  {
   "cell_type": "code",
   "execution_count": 11,
   "metadata": {},
   "outputs": [
    {
     "data": {
      "text/html": [
       "<div>\n",
       "<style scoped>\n",
       "    .dataframe tbody tr th:only-of-type {\n",
       "        vertical-align: middle;\n",
       "    }\n",
       "\n",
       "    .dataframe tbody tr th {\n",
       "        vertical-align: top;\n",
       "    }\n",
       "\n",
       "    .dataframe thead th {\n",
       "        text-align: right;\n",
       "    }\n",
       "</style>\n",
       "<table border=\"1\" class=\"dataframe\">\n",
       "  <thead>\n",
       "    <tr style=\"text-align: right;\">\n",
       "      <th></th>\n",
       "      <th>movie_id</th>\n",
       "      <th>primary_title</th>\n",
       "      <th>original_title</th>\n",
       "      <th>start_year</th>\n",
       "      <th>genres</th>\n",
       "    </tr>\n",
       "  </thead>\n",
       "  <tbody>\n",
       "    <tr>\n",
       "      <th>0</th>\n",
       "      <td>tt0063540</td>\n",
       "      <td>Sunghursh</td>\n",
       "      <td>Sunghursh</td>\n",
       "      <td>2013</td>\n",
       "      <td>Action,Crime,Drama</td>\n",
       "    </tr>\n",
       "    <tr>\n",
       "      <th>1</th>\n",
       "      <td>tt0066787</td>\n",
       "      <td>One Day Before the Rainy Season</td>\n",
       "      <td>Ashad Ka Ek Din</td>\n",
       "      <td>2019</td>\n",
       "      <td>Biography,Drama</td>\n",
       "    </tr>\n",
       "    <tr>\n",
       "      <th>2</th>\n",
       "      <td>tt0069049</td>\n",
       "      <td>The Other Side of the Wind</td>\n",
       "      <td>The Other Side of the Wind</td>\n",
       "      <td>2018</td>\n",
       "      <td>Drama</td>\n",
       "    </tr>\n",
       "    <tr>\n",
       "      <th>3</th>\n",
       "      <td>tt0069204</td>\n",
       "      <td>Sabse Bada Sukh</td>\n",
       "      <td>Sabse Bada Sukh</td>\n",
       "      <td>2018</td>\n",
       "      <td>Comedy,Drama</td>\n",
       "    </tr>\n",
       "    <tr>\n",
       "      <th>4</th>\n",
       "      <td>tt0100275</td>\n",
       "      <td>The Wandering Soap Opera</td>\n",
       "      <td>La Telenovela Errante</td>\n",
       "      <td>2017</td>\n",
       "      <td>Comedy,Drama,Fantasy</td>\n",
       "    </tr>\n",
       "    <tr>\n",
       "      <th>...</th>\n",
       "      <td>...</td>\n",
       "      <td>...</td>\n",
       "      <td>...</td>\n",
       "      <td>...</td>\n",
       "      <td>...</td>\n",
       "    </tr>\n",
       "    <tr>\n",
       "      <th>146138</th>\n",
       "      <td>tt9916428</td>\n",
       "      <td>The Secret of China</td>\n",
       "      <td>The Secret of China</td>\n",
       "      <td>2019</td>\n",
       "      <td>Adventure,History,War</td>\n",
       "    </tr>\n",
       "    <tr>\n",
       "      <th>146139</th>\n",
       "      <td>tt9916538</td>\n",
       "      <td>Kuambil Lagi Hatiku</td>\n",
       "      <td>Kuambil Lagi Hatiku</td>\n",
       "      <td>2019</td>\n",
       "      <td>Drama</td>\n",
       "    </tr>\n",
       "    <tr>\n",
       "      <th>146140</th>\n",
       "      <td>tt9916622</td>\n",
       "      <td>Rodolpho Teóphilo - O Legado de um Pioneiro</td>\n",
       "      <td>Rodolpho Teóphilo - O Legado de um Pioneiro</td>\n",
       "      <td>2015</td>\n",
       "      <td>Documentary</td>\n",
       "    </tr>\n",
       "    <tr>\n",
       "      <th>146141</th>\n",
       "      <td>tt9916706</td>\n",
       "      <td>Dankyavar Danka</td>\n",
       "      <td>Dankyavar Danka</td>\n",
       "      <td>2013</td>\n",
       "      <td>Comedy</td>\n",
       "    </tr>\n",
       "    <tr>\n",
       "      <th>146143</th>\n",
       "      <td>tt9916754</td>\n",
       "      <td>Chico Albuquerque - Revelações</td>\n",
       "      <td>Chico Albuquerque - Revelações</td>\n",
       "      <td>2013</td>\n",
       "      <td>Documentary</td>\n",
       "    </tr>\n",
       "  </tbody>\n",
       "</table>\n",
       "<p>140736 rows × 5 columns</p>\n",
       "</div>"
      ],
      "text/plain": [
       "         movie_id                                primary_title   \n",
       "0       tt0063540                                    Sunghursh  \\\n",
       "1       tt0066787              One Day Before the Rainy Season   \n",
       "2       tt0069049                   The Other Side of the Wind   \n",
       "3       tt0069204                              Sabse Bada Sukh   \n",
       "4       tt0100275                     The Wandering Soap Opera   \n",
       "...           ...                                          ...   \n",
       "146138  tt9916428                          The Secret of China   \n",
       "146139  tt9916538                          Kuambil Lagi Hatiku   \n",
       "146140  tt9916622  Rodolpho Teóphilo - O Legado de um Pioneiro   \n",
       "146141  tt9916706                              Dankyavar Danka   \n",
       "146143  tt9916754               Chico Albuquerque - Revelações   \n",
       "\n",
       "                                     original_title  start_year   \n",
       "0                                         Sunghursh        2013  \\\n",
       "1                                   Ashad Ka Ek Din        2019   \n",
       "2                        The Other Side of the Wind        2018   \n",
       "3                                   Sabse Bada Sukh        2018   \n",
       "4                             La Telenovela Errante        2017   \n",
       "...                                             ...         ...   \n",
       "146138                          The Secret of China        2019   \n",
       "146139                          Kuambil Lagi Hatiku        2019   \n",
       "146140  Rodolpho Teóphilo - O Legado de um Pioneiro        2015   \n",
       "146141                              Dankyavar Danka        2013   \n",
       "146143               Chico Albuquerque - Revelações        2013   \n",
       "\n",
       "                       genres  \n",
       "0          Action,Crime,Drama  \n",
       "1             Biography,Drama  \n",
       "2                       Drama  \n",
       "3                Comedy,Drama  \n",
       "4        Comedy,Drama,Fantasy  \n",
       "...                       ...  \n",
       "146138  Adventure,History,War  \n",
       "146139                  Drama  \n",
       "146140            Documentary  \n",
       "146141                 Comedy  \n",
       "146143            Documentary  \n",
       "\n",
       "[140736 rows x 5 columns]"
      ]
     },
     "execution_count": 11,
     "metadata": {},
     "output_type": "execute_result"
    }
   ],
   "source": [
    " # Since the value of missing values is only 3.7% of the missing data in the 'genres' column we can just drop rows with missing values.\n",
    "# movie_basics.dropna(subset=['genres'], inplace=True)\n",
    "movie_basics  # Rows with missing values have been dropped"
   ]
  },
  {
   "cell_type": "code",
   "execution_count": 12,
   "metadata": {},
   "outputs": [
    {
     "data": {
      "text/plain": [
       "movie_id          0\n",
       "primary_title     0\n",
       "original_title    2\n",
       "start_year        0\n",
       "genres            0\n",
       "dtype: int64"
      ]
     },
     "execution_count": 12,
     "metadata": {},
     "output_type": "execute_result"
    }
   ],
   "source": [
    "# Checking to see if all missing values are removed\n",
    "movie_basics.isnull().sum()"
   ]
  },
  {
   "cell_type": "code",
   "execution_count": 13,
   "metadata": {},
   "outputs": [],
   "source": [
    "most_frequent_genre = movie_basics['original_title'].mode()[0]\n",
    "movie_basics['original_title'].fillna(most_frequent_genre, inplace=True)"
   ]
  },
  {
   "cell_type": "code",
   "execution_count": 14,
   "metadata": {},
   "outputs": [
    {
     "data": {
      "text/plain": [
       "movie_id          0\n",
       "primary_title     0\n",
       "original_title    0\n",
       "start_year        0\n",
       "genres            0\n",
       "dtype: int64"
      ]
     },
     "execution_count": 14,
     "metadata": {},
     "output_type": "execute_result"
    }
   ],
   "source": [
    "# Checking to see if all missing values are still there\n",
    "movie_basics.isnull().sum()  # No more missing values."
   ]
  },
  {
   "cell_type": "code",
   "execution_count": null,
   "metadata": {},
   "outputs": [],
   "source": []
  },
  {
   "attachments": {},
   "cell_type": "markdown",
   "metadata": {},
   "source": [
    "**2.Then we handle the duplicates**"
   ]
  },
  {
   "cell_type": "code",
   "execution_count": 15,
   "metadata": {},
   "outputs": [
    {
     "data": {
      "text/html": [
       "<div>\n",
       "<style scoped>\n",
       "    .dataframe tbody tr th:only-of-type {\n",
       "        vertical-align: middle;\n",
       "    }\n",
       "\n",
       "    .dataframe tbody tr th {\n",
       "        vertical-align: top;\n",
       "    }\n",
       "\n",
       "    .dataframe thead th {\n",
       "        text-align: right;\n",
       "    }\n",
       "</style>\n",
       "<table border=\"1\" class=\"dataframe\">\n",
       "  <thead>\n",
       "    <tr style=\"text-align: right;\">\n",
       "      <th></th>\n",
       "      <th>movie_id</th>\n",
       "      <th>primary_title</th>\n",
       "      <th>original_title</th>\n",
       "      <th>start_year</th>\n",
       "      <th>genres</th>\n",
       "    </tr>\n",
       "  </thead>\n",
       "  <tbody>\n",
       "  </tbody>\n",
       "</table>\n",
       "</div>"
      ],
      "text/plain": [
       "Empty DataFrame\n",
       "Columns: [movie_id, primary_title, original_title, start_year, genres]\n",
       "Index: []"
      ]
     },
     "execution_count": 15,
     "metadata": {},
     "output_type": "execute_result"
    }
   ],
   "source": [
    "duplicates = movie_basics[movie_basics.duplicated()]\n",
    "duplicates  # No duplicates in this table."
   ]
  },
  {
   "cell_type": "code",
   "execution_count": 16,
   "metadata": {},
   "outputs": [],
   "source": [
    "# There are no duplicates"
   ]
  },
  {
   "attachments": {},
   "cell_type": "markdown",
   "metadata": {},
   "source": [
    "**3.We now want to correct the datatypes**"
   ]
  },
  {
   "cell_type": "code",
   "execution_count": 17,
   "metadata": {},
   "outputs": [
    {
     "name": "stdout",
     "output_type": "stream",
     "text": [
      "<class 'pandas.core.frame.DataFrame'>\n",
      "Index: 140736 entries, 0 to 146143\n",
      "Data columns (total 5 columns):\n",
      " #   Column          Non-Null Count   Dtype \n",
      "---  ------          --------------   ----- \n",
      " 0   movie_id        140736 non-null  object\n",
      " 1   primary_title   140736 non-null  object\n",
      " 2   original_title  140736 non-null  object\n",
      " 3   start_year      140736 non-null  int64 \n",
      " 4   genres          140736 non-null  object\n",
      "dtypes: int64(1), object(4)\n",
      "memory usage: 6.4+ MB\n"
     ]
    }
   ],
   "source": [
    "# Checking the dtypes of each column in the movie_basics table.\n",
    "movie_basics.info()"
   ]
  },
  {
   "cell_type": "code",
   "execution_count": 18,
   "metadata": {},
   "outputs": [
    {
     "name": "stdout",
     "output_type": "stream",
     "text": [
      "[]\n",
      "[]\n",
      "[]\n",
      "[]\n",
      "[]\n"
     ]
    }
   ],
   "source": [
    "# Isolating datatypes which do not conform to the datatypes for each column in the table\n",
    "# Starting with the movie_id column\n",
    "wrong_movie_id = [x for x in movie_basics['movie_id'] if type(x) != str]\n",
    "print(wrong_movie_id)  # No wrong datatypes\n",
    "\n",
    "# Then the primary title column\n",
    "wrong_primary_title = [x for x in movie_basics['primary_title'] if type(x) != str]\n",
    "print(wrong_primary_title)  # No wrong primary primary_title\n",
    "\n",
    "# Then the original title\n",
    "wrong_original_title = [x for x in movie_basics['original_title'] if type(x) != str]\n",
    "print(wrong_original_title)  # No wrong original title\n",
    "\n",
    "# Then the start year\n",
    "wrong_start_year = [x for x in movie_basics['start_year'] if type(x) != int]\n",
    "print(wrong_start_year)  # No wrong start year\n",
    "\n",
    "# And finally the genres column\n",
    "wrong_genre_type = [x for x in movie_basics['genres'] if type(x) != str]\n",
    "print(wrong_genre_type)  # No wrong genres"
   ]
  },
  {
   "cell_type": "code",
   "execution_count": 20,
   "metadata": {},
   "outputs": [],
   "source": [
    "# In conclusion the table movie_basics has no wrong data types in each of its columns."
   ]
  },
  {
   "attachments": {},
   "cell_type": "markdown",
   "metadata": {},
   "source": [
    "## 2. Movie ratings"
   ]
  },
  {
   "attachments": {},
   "cell_type": "markdown",
   "metadata": {},
   "source": [
    "**1.First we handle the missing values**"
   ]
  },
  {
   "cell_type": "code",
   "execution_count": 19,
   "metadata": {},
   "outputs": [
    {
     "name": "stdout",
     "output_type": "stream",
     "text": [
      "<class 'pandas.core.frame.DataFrame'>\n",
      "RangeIndex: 73856 entries, 0 to 73855\n",
      "Data columns (total 3 columns):\n",
      " #   Column         Non-Null Count  Dtype  \n",
      "---  ------         --------------  -----  \n",
      " 0   movie_id       73856 non-null  object \n",
      " 1   averagerating  73856 non-null  float64\n",
      " 2   numvotes       73856 non-null  int64  \n",
      "dtypes: float64(1), int64(1), object(1)\n",
      "memory usage: 1.7+ MB\n"
     ]
    }
   ],
   "source": [
    "# Looking at the general info of the table\n",
    "movie_ratings.info()"
   ]
  },
  {
   "cell_type": "code",
   "execution_count": 20,
   "metadata": {},
   "outputs": [
    {
     "data": {
      "text/plain": [
       "movie_id         0\n",
       "averagerating    0\n",
       "numvotes         0\n",
       "dtype: int64"
      ]
     },
     "execution_count": 20,
     "metadata": {},
     "output_type": "execute_result"
    }
   ],
   "source": [
    "# Checkig for missing values\n",
    "movie_ratings.isnull().sum()  # No missing values"
   ]
  },
  {
   "cell_type": "code",
   "execution_count": 21,
   "metadata": {},
   "outputs": [],
   "source": [
    "# No missing values"
   ]
  },
  {
   "attachments": {},
   "cell_type": "markdown",
   "metadata": {},
   "source": [
    "**2. Then the duplicates**"
   ]
  },
  {
   "cell_type": "code",
   "execution_count": 21,
   "metadata": {},
   "outputs": [
    {
     "data": {
      "text/html": [
       "<div>\n",
       "<style scoped>\n",
       "    .dataframe tbody tr th:only-of-type {\n",
       "        vertical-align: middle;\n",
       "    }\n",
       "\n",
       "    .dataframe tbody tr th {\n",
       "        vertical-align: top;\n",
       "    }\n",
       "\n",
       "    .dataframe thead th {\n",
       "        text-align: right;\n",
       "    }\n",
       "</style>\n",
       "<table border=\"1\" class=\"dataframe\">\n",
       "  <thead>\n",
       "    <tr style=\"text-align: right;\">\n",
       "      <th></th>\n",
       "      <th>movie_id</th>\n",
       "      <th>averagerating</th>\n",
       "      <th>numvotes</th>\n",
       "    </tr>\n",
       "  </thead>\n",
       "  <tbody>\n",
       "  </tbody>\n",
       "</table>\n",
       "</div>"
      ],
      "text/plain": [
       "Empty DataFrame\n",
       "Columns: [movie_id, averagerating, numvotes]\n",
       "Index: []"
      ]
     },
     "execution_count": 21,
     "metadata": {},
     "output_type": "execute_result"
    }
   ],
   "source": [
    "duplicates = movie_ratings[movie_ratings.duplicated()]\n",
    "duplicates"
   ]
  },
  {
   "cell_type": "code",
   "execution_count": 22,
   "metadata": {},
   "outputs": [],
   "source": [
    "# No duplicates"
   ]
  },
  {
   "attachments": {},
   "cell_type": "markdown",
   "metadata": {},
   "source": [
    "**3. Correcting data types**"
   ]
  },
  {
   "cell_type": "code",
   "execution_count": 23,
   "metadata": {},
   "outputs": [
    {
     "name": "stdout",
     "output_type": "stream",
     "text": [
      "<class 'pandas.core.frame.DataFrame'>\n",
      "RangeIndex: 73856 entries, 0 to 73855\n",
      "Data columns (total 3 columns):\n",
      " #   Column         Non-Null Count  Dtype  \n",
      "---  ------         --------------  -----  \n",
      " 0   movie_id       73856 non-null  object \n",
      " 1   averagerating  73856 non-null  float64\n",
      " 2   numvotes       73856 non-null  int64  \n",
      "dtypes: float64(1), int64(1), object(1)\n",
      "memory usage: 1.7+ MB\n"
     ]
    }
   ],
   "source": [
    "# Looking at the Dtypes of each column in the movie_ratings table\n",
    "movie_ratings.info()"
   ]
  },
  {
   "cell_type": "code",
   "execution_count": 24,
   "metadata": {},
   "outputs": [
    {
     "name": "stdout",
     "output_type": "stream",
     "text": [
      "[]\n",
      "[]\n",
      "[]\n"
     ]
    }
   ],
   "source": [
    "# Isolating datatypes which do not conform to the datatypes for each column in the table\n",
    "# Starting with the movie_id column\n",
    "wrong_movie_id = [x for x in movie_ratings['movie_id'] if type(x) != str]\n",
    "print(wrong_movie_id)  # No wrong datatype\n",
    "\n",
    "# Then the average rating \n",
    "wrong_rating = [x for x in movie_ratings['averagerating'] if type(x) != float]\n",
    "print(wrong_rating)\n",
    "\n",
    "# Then the numvotes\n",
    "wrong_votes = [x for x in movie_ratings['numvotes'] if type(x) != int]\n",
    "print(wrong_votes)"
   ]
  },
  {
   "cell_type": "code",
   "execution_count": 25,
   "metadata": {},
   "outputs": [],
   "source": [
    "# There are no wrong datatypes in this data."
   ]
  },
  {
   "attachments": {},
   "cell_type": "markdown",
   "metadata": {},
   "source": [
    "**4. Removing outliers**"
   ]
  },
  {
   "cell_type": "code",
   "execution_count": 26,
   "metadata": {},
   "outputs": [
    {
     "name": "stdout",
     "output_type": "stream",
     "text": [
      "2.6499999999999995\n",
      "The number of outliers is 1172\n",
      "1172\n",
      "72684\n"
     ]
    }
   ],
   "source": [
    "# Starting with the averagerating column\n",
    "\n",
    "#  Finding the lower quantile\n",
    "Q1 = movie_ratings['averagerating'].quantile(0.25)\n",
    "\n",
    "# Finding the upper quantile\n",
    "Q3 = movie_ratings['averagerating'].quantile(0.75)\n",
    "\n",
    "# Finding IQR\n",
    "IQR = Q3 - Q1\n",
    "\n",
    "# Defining the lower bound and upper bound\n",
    "lower_bound = Q1 - (1.5 * IQR)\n",
    "upper_bound = Q3 + (1.5 * IQR)\n",
    "print(lower_bound)\n",
    "\n",
    "# Finding outliers\n",
    "outliers = movie_ratings[(movie_ratings['averagerating'] < lower_bound) | (movie_ratings['averagerating'] > upper_bound)]\n",
    "print('The number of outliers is', len(outliers))\n",
    "print(len(outliers))\n",
    "\n",
    "# Data without outliers\n",
    "standardized_ratings = movie_ratings['averagerating'][(movie_ratings['averagerating'] > lower_bound) & (movie_ratings['averagerating'] < upper_bound)]\n",
    "print(len(standardized_ratings))\n"
   ]
  },
  {
   "cell_type": "code",
   "execution_count": 27,
   "metadata": {},
   "outputs": [
    {
     "name": "stdout",
     "output_type": "stream",
     "text": [
      "11758\n",
      "62089\n"
     ]
    }
   ],
   "source": [
    "# Then the numvotes column\n",
    "\n",
    "# Lower quantile\n",
    "Q1 = movie_ratings['numvotes'].quantile(0.25)\n",
    "\n",
    "# Upper quantile\n",
    "Q3 = movie_ratings['numvotes'].quantile(0.75)\n",
    "\n",
    "# Finding IQR\n",
    "IQR = Q3 - Q1\n",
    "\n",
    "# Defining the lower bound and upper bound\n",
    "lower_bound = Q1 - (1.5 * IQR)\n",
    "upper_bound = Q3 + (1.5 * IQR)\n",
    "\n",
    "# Finding outliers\n",
    "outliers = movie_ratings['numvotes'][(movie_ratings['numvotes'] < lower_bound) | (movie_ratings['numvotes'] > upper_bound)]\n",
    "print(len(outliers))\n",
    "\n",
    "# Data without outliers\n",
    "standardized_numvotes = movie_ratings['numvotes'][(movie_ratings['numvotes'] > lower_bound) & (movie_ratings['numvotes'] < upper_bound)]\n",
    "print(len(standardized_numvotes))\n"
   ]
  },
  {
   "cell_type": "code",
   "execution_count": 31,
   "metadata": {},
   "outputs": [],
   "source": [
    "# Since I'm not sure on the effect of outliers on the data I'm gonna keep a copy with and without outliers and compare the two during analysis for now let us continue with data cleaning."
   ]
  },
  {
   "attachments": {},
   "cell_type": "markdown",
   "metadata": {},
   "source": [
    " ## 3. Gross values"
   ]
  },
  {
   "attachments": {},
   "cell_type": "markdown",
   "metadata": {},
   "source": [
    "**1. Handling missing values**"
   ]
  },
  {
   "attachments": {},
   "cell_type": "markdown",
   "metadata": {},
   "source": [
    "##### Looking at general info of the table.\n"
   ]
  },
  {
   "cell_type": "code",
   "execution_count": 28,
   "metadata": {},
   "outputs": [
    {
     "name": "stdout",
     "output_type": "stream",
     "text": [
      "<class 'pandas.core.frame.DataFrame'>\n",
      "RangeIndex: 3387 entries, 0 to 3386\n",
      "Data columns (total 5 columns):\n",
      " #   Column          Non-Null Count  Dtype  \n",
      "---  ------          --------------  -----  \n",
      " 0   title           3387 non-null   object \n",
      " 1   studio          3382 non-null   object \n",
      " 2   domestic_gross  3359 non-null   float64\n",
      " 3   foreign_gross   2037 non-null   object \n",
      " 4   year            3387 non-null   int64  \n",
      "dtypes: float64(1), int64(1), object(3)\n",
      "memory usage: 132.4+ KB\n"
     ]
    }
   ],
   "source": [
    "gross_data.info()"
   ]
  },
  {
   "cell_type": "code",
   "execution_count": 29,
   "metadata": {},
   "outputs": [
    {
     "data": {
      "text/plain": [
       "title                0\n",
       "studio               5\n",
       "domestic_gross      28\n",
       "foreign_gross     1350\n",
       "year                 0\n",
       "dtype: int64"
      ]
     },
     "execution_count": 29,
     "metadata": {},
     "output_type": "execute_result"
    }
   ],
   "source": [
    "# Looking for missing values\n",
    "gross_data.isnull().sum()  # Domestic_gross and foreign_gross have missing values"
   ]
  },
  {
   "cell_type": "code",
   "execution_count": 30,
   "metadata": {},
   "outputs": [
    {
     "name": "stdout",
     "output_type": "stream",
     "text": [
      "The percentage of data missing for the domestic gross column is 0.8266902863891349\n",
      "The percentage of data missing for the foreign gross column is 39.85828166519043\n"
     ]
    }
   ],
   "source": [
    "# There are several missing values in the domestic_gross and foreign_gross tables.\n",
    "# Finding percentage missing for the domestic_gross and final_gross values\n",
    "\n",
    "# First the domestic_gross\n",
    "missing_domestic_gross = gross_data['domestic_gross'][gross_data['domestic_gross'].isnull()]\n",
    "percentage_missing = (len(missing_domestic_gross) / len(gross_data['domestic_gross'])) * 100\n",
    "print('The percentage of data missing for the domestic gross column is', percentage_missing)\n",
    "\n",
    "# Then the foreign gross\n",
    "missing_foreign_gross = gross_data['foreign_gross'][gross_data['foreign_gross'].isnull()]\n",
    "percentage_missing = (len(missing_foreign_gross) / len(gross_data['foreign_gross'])) * 100\n",
    "print('The percentage of data missing for the foreign gross column is', percentage_missing)"
   ]
  },
  {
   "cell_type": "code",
   "execution_count": 38,
   "metadata": {},
   "outputs": [
    {
     "data": {
      "text/html": [
       "<div>\n",
       "<style scoped>\n",
       "    .dataframe tbody tr th:only-of-type {\n",
       "        vertical-align: middle;\n",
       "    }\n",
       "\n",
       "    .dataframe tbody tr th {\n",
       "        vertical-align: top;\n",
       "    }\n",
       "\n",
       "    .dataframe thead th {\n",
       "        text-align: right;\n",
       "    }\n",
       "</style>\n",
       "<table border=\"1\" class=\"dataframe\">\n",
       "  <thead>\n",
       "    <tr style=\"text-align: right;\">\n",
       "      <th></th>\n",
       "      <th>title</th>\n",
       "      <th>studio</th>\n",
       "      <th>domestic_gross</th>\n",
       "      <th>foreign_gross</th>\n",
       "      <th>year</th>\n",
       "    </tr>\n",
       "  </thead>\n",
       "  <tbody>\n",
       "    <tr>\n",
       "      <th>0</th>\n",
       "      <td>Toy Story 3</td>\n",
       "      <td>BV</td>\n",
       "      <td>415000000.0</td>\n",
       "      <td>652000000</td>\n",
       "      <td>2010</td>\n",
       "    </tr>\n",
       "    <tr>\n",
       "      <th>1</th>\n",
       "      <td>Alice in Wonderland (2010)</td>\n",
       "      <td>BV</td>\n",
       "      <td>334200000.0</td>\n",
       "      <td>691300000</td>\n",
       "      <td>2010</td>\n",
       "    </tr>\n",
       "    <tr>\n",
       "      <th>2</th>\n",
       "      <td>Harry Potter and the Deathly Hallows Part 1</td>\n",
       "      <td>WB</td>\n",
       "      <td>296000000.0</td>\n",
       "      <td>664300000</td>\n",
       "      <td>2010</td>\n",
       "    </tr>\n",
       "    <tr>\n",
       "      <th>3</th>\n",
       "      <td>Inception</td>\n",
       "      <td>WB</td>\n",
       "      <td>292600000.0</td>\n",
       "      <td>535700000</td>\n",
       "      <td>2010</td>\n",
       "    </tr>\n",
       "    <tr>\n",
       "      <th>4</th>\n",
       "      <td>Shrek Forever After</td>\n",
       "      <td>P/DW</td>\n",
       "      <td>238700000.0</td>\n",
       "      <td>513900000</td>\n",
       "      <td>2010</td>\n",
       "    </tr>\n",
       "    <tr>\n",
       "      <th>...</th>\n",
       "      <td>...</td>\n",
       "      <td>...</td>\n",
       "      <td>...</td>\n",
       "      <td>...</td>\n",
       "      <td>...</td>\n",
       "    </tr>\n",
       "    <tr>\n",
       "      <th>3382</th>\n",
       "      <td>The Quake</td>\n",
       "      <td>Magn.</td>\n",
       "      <td>6200.0</td>\n",
       "      <td>30000</td>\n",
       "      <td>2018</td>\n",
       "    </tr>\n",
       "    <tr>\n",
       "      <th>3383</th>\n",
       "      <td>Edward II (2018 re-release)</td>\n",
       "      <td>FM</td>\n",
       "      <td>4800.0</td>\n",
       "      <td>30000</td>\n",
       "      <td>2018</td>\n",
       "    </tr>\n",
       "    <tr>\n",
       "      <th>3384</th>\n",
       "      <td>El Pacto</td>\n",
       "      <td>Sony</td>\n",
       "      <td>2500.0</td>\n",
       "      <td>30000</td>\n",
       "      <td>2018</td>\n",
       "    </tr>\n",
       "    <tr>\n",
       "      <th>3385</th>\n",
       "      <td>The Swan</td>\n",
       "      <td>Synergetic</td>\n",
       "      <td>2400.0</td>\n",
       "      <td>30000</td>\n",
       "      <td>2018</td>\n",
       "    </tr>\n",
       "    <tr>\n",
       "      <th>3386</th>\n",
       "      <td>An Actor Prepares</td>\n",
       "      <td>Grav.</td>\n",
       "      <td>1700.0</td>\n",
       "      <td>30000</td>\n",
       "      <td>2018</td>\n",
       "    </tr>\n",
       "  </tbody>\n",
       "</table>\n",
       "<p>3359 rows × 5 columns</p>\n",
       "</div>"
      ],
      "text/plain": [
       "                                            title      studio  domestic_gross   \n",
       "0                                     Toy Story 3          BV     415000000.0  \\\n",
       "1                      Alice in Wonderland (2010)          BV     334200000.0   \n",
       "2     Harry Potter and the Deathly Hallows Part 1          WB     296000000.0   \n",
       "3                                       Inception          WB     292600000.0   \n",
       "4                             Shrek Forever After        P/DW     238700000.0   \n",
       "...                                           ...         ...             ...   \n",
       "3382                                    The Quake       Magn.          6200.0   \n",
       "3383                  Edward II (2018 re-release)          FM          4800.0   \n",
       "3384                                     El Pacto        Sony          2500.0   \n",
       "3385                                     The Swan  Synergetic          2400.0   \n",
       "3386                            An Actor Prepares       Grav.          1700.0   \n",
       "\n",
       "     foreign_gross  year  \n",
       "0        652000000  2010  \n",
       "1        691300000  2010  \n",
       "2        664300000  2010  \n",
       "3        535700000  2010  \n",
       "4        513900000  2010  \n",
       "...            ...   ...  \n",
       "3382         30000  2018  \n",
       "3383         30000  2018  \n",
       "3384         30000  2018  \n",
       "3385         30000  2018  \n",
       "3386         30000  2018  \n",
       "\n",
       "[3359 rows x 5 columns]"
      ]
     },
     "execution_count": 38,
     "metadata": {},
     "output_type": "execute_result"
    }
   ],
   "source": [
    "# For the domestic gross column since only 0.82% of the data is missing we can just drop the rows with missing values.\n",
    "# gross_data.dropna(subset=['domestic_gross'], inplace=True)\n",
    "gross_data"
   ]
  },
  {
   "cell_type": "code",
   "execution_count": 39,
   "metadata": {},
   "outputs": [
    {
     "data": {
      "text/html": [
       "<div>\n",
       "<style scoped>\n",
       "    .dataframe tbody tr th:only-of-type {\n",
       "        vertical-align: middle;\n",
       "    }\n",
       "\n",
       "    .dataframe tbody tr th {\n",
       "        vertical-align: top;\n",
       "    }\n",
       "\n",
       "    .dataframe thead th {\n",
       "        text-align: right;\n",
       "    }\n",
       "</style>\n",
       "<table border=\"1\" class=\"dataframe\">\n",
       "  <thead>\n",
       "    <tr style=\"text-align: right;\">\n",
       "      <th></th>\n",
       "      <th>title</th>\n",
       "      <th>studio</th>\n",
       "      <th>domestic_gross</th>\n",
       "      <th>foreign_gross</th>\n",
       "      <th>year</th>\n",
       "    </tr>\n",
       "  </thead>\n",
       "  <tbody>\n",
       "    <tr>\n",
       "      <th>0</th>\n",
       "      <td>Toy Story 3</td>\n",
       "      <td>BV</td>\n",
       "      <td>415000000.0</td>\n",
       "      <td>652000000</td>\n",
       "      <td>2010</td>\n",
       "    </tr>\n",
       "    <tr>\n",
       "      <th>1</th>\n",
       "      <td>Alice in Wonderland (2010)</td>\n",
       "      <td>BV</td>\n",
       "      <td>334200000.0</td>\n",
       "      <td>691300000</td>\n",
       "      <td>2010</td>\n",
       "    </tr>\n",
       "    <tr>\n",
       "      <th>2</th>\n",
       "      <td>Harry Potter and the Deathly Hallows Part 1</td>\n",
       "      <td>WB</td>\n",
       "      <td>296000000.0</td>\n",
       "      <td>664300000</td>\n",
       "      <td>2010</td>\n",
       "    </tr>\n",
       "    <tr>\n",
       "      <th>3</th>\n",
       "      <td>Inception</td>\n",
       "      <td>WB</td>\n",
       "      <td>292600000.0</td>\n",
       "      <td>535700000</td>\n",
       "      <td>2010</td>\n",
       "    </tr>\n",
       "    <tr>\n",
       "      <th>4</th>\n",
       "      <td>Shrek Forever After</td>\n",
       "      <td>P/DW</td>\n",
       "      <td>238700000.0</td>\n",
       "      <td>513900000</td>\n",
       "      <td>2010</td>\n",
       "    </tr>\n",
       "    <tr>\n",
       "      <th>...</th>\n",
       "      <td>...</td>\n",
       "      <td>...</td>\n",
       "      <td>...</td>\n",
       "      <td>...</td>\n",
       "      <td>...</td>\n",
       "    </tr>\n",
       "    <tr>\n",
       "      <th>3382</th>\n",
       "      <td>The Quake</td>\n",
       "      <td>Magn.</td>\n",
       "      <td>6200.0</td>\n",
       "      <td>30000</td>\n",
       "      <td>2018</td>\n",
       "    </tr>\n",
       "    <tr>\n",
       "      <th>3383</th>\n",
       "      <td>Edward II (2018 re-release)</td>\n",
       "      <td>FM</td>\n",
       "      <td>4800.0</td>\n",
       "      <td>30000</td>\n",
       "      <td>2018</td>\n",
       "    </tr>\n",
       "    <tr>\n",
       "      <th>3384</th>\n",
       "      <td>El Pacto</td>\n",
       "      <td>Sony</td>\n",
       "      <td>2500.0</td>\n",
       "      <td>30000</td>\n",
       "      <td>2018</td>\n",
       "    </tr>\n",
       "    <tr>\n",
       "      <th>3385</th>\n",
       "      <td>The Swan</td>\n",
       "      <td>Synergetic</td>\n",
       "      <td>2400.0</td>\n",
       "      <td>30000</td>\n",
       "      <td>2018</td>\n",
       "    </tr>\n",
       "    <tr>\n",
       "      <th>3386</th>\n",
       "      <td>An Actor Prepares</td>\n",
       "      <td>Grav.</td>\n",
       "      <td>1700.0</td>\n",
       "      <td>30000</td>\n",
       "      <td>2018</td>\n",
       "    </tr>\n",
       "  </tbody>\n",
       "</table>\n",
       "<p>3359 rows × 5 columns</p>\n",
       "</div>"
      ],
      "text/plain": [
       "                                            title      studio  domestic_gross   \n",
       "0                                     Toy Story 3          BV     415000000.0  \\\n",
       "1                      Alice in Wonderland (2010)          BV     334200000.0   \n",
       "2     Harry Potter and the Deathly Hallows Part 1          WB     296000000.0   \n",
       "3                                       Inception          WB     292600000.0   \n",
       "4                             Shrek Forever After        P/DW     238700000.0   \n",
       "...                                           ...         ...             ...   \n",
       "3382                                    The Quake       Magn.          6200.0   \n",
       "3383                  Edward II (2018 re-release)          FM          4800.0   \n",
       "3384                                     El Pacto        Sony          2500.0   \n",
       "3385                                     The Swan  Synergetic          2400.0   \n",
       "3386                            An Actor Prepares       Grav.          1700.0   \n",
       "\n",
       "     foreign_gross  year  \n",
       "0        652000000  2010  \n",
       "1        691300000  2010  \n",
       "2        664300000  2010  \n",
       "3        535700000  2010  \n",
       "4        513900000  2010  \n",
       "...            ...   ...  \n",
       "3382         30000  2018  \n",
       "3383         30000  2018  \n",
       "3384         30000  2018  \n",
       "3385         30000  2018  \n",
       "3386         30000  2018  \n",
       "\n",
       "[3359 rows x 5 columns]"
      ]
     },
     "execution_count": 39,
     "metadata": {},
     "output_type": "execute_result"
    }
   ],
   "source": [
    "# The foreign gross is a bit tricky since it has a lot of missing values so we can't drop the values without significantly affecting the data.\n",
    "# But we also can't just fill it with mean or mode as that may skew the distribution of the range of data or create bias.\n",
    "# For now we will use forward fill to fill it with the value that preceeds it which is not null.\n",
    "filled_data = gross_data['foreign_gross'].fillna(method='ffill')\n",
    "gross_data['foreign_gross'] = filled_data\n",
    "gross_data"
   ]
  },
  {
   "attachments": {},
   "cell_type": "markdown",
   "metadata": {},
   "source": [
    "**2. Handling duplicates**"
   ]
  },
  {
   "cell_type": "code",
   "execution_count": 40,
   "metadata": {},
   "outputs": [
    {
     "data": {
      "text/html": [
       "<div>\n",
       "<style scoped>\n",
       "    .dataframe tbody tr th:only-of-type {\n",
       "        vertical-align: middle;\n",
       "    }\n",
       "\n",
       "    .dataframe tbody tr th {\n",
       "        vertical-align: top;\n",
       "    }\n",
       "\n",
       "    .dataframe thead th {\n",
       "        text-align: right;\n",
       "    }\n",
       "</style>\n",
       "<table border=\"1\" class=\"dataframe\">\n",
       "  <thead>\n",
       "    <tr style=\"text-align: right;\">\n",
       "      <th></th>\n",
       "      <th>title</th>\n",
       "      <th>studio</th>\n",
       "      <th>domestic_gross</th>\n",
       "      <th>foreign_gross</th>\n",
       "      <th>year</th>\n",
       "    </tr>\n",
       "  </thead>\n",
       "  <tbody>\n",
       "  </tbody>\n",
       "</table>\n",
       "</div>"
      ],
      "text/plain": [
       "Empty DataFrame\n",
       "Columns: [title, studio, domestic_gross, foreign_gross, year]\n",
       "Index: []"
      ]
     },
     "execution_count": 40,
     "metadata": {},
     "output_type": "execute_result"
    }
   ],
   "source": [
    "gross_data[gross_data.duplicated()]"
   ]
  },
  {
   "cell_type": "code",
   "execution_count": 41,
   "metadata": {},
   "outputs": [],
   "source": [
    "# There are no duplicates in this data."
   ]
  },
  {
   "attachments": {},
   "cell_type": "markdown",
   "metadata": {},
   "source": [
    "**3. Correcting data types**"
   ]
  },
  {
   "cell_type": "code",
   "execution_count": 42,
   "metadata": {},
   "outputs": [
    {
     "name": "stdout",
     "output_type": "stream",
     "text": [
      "<class 'pandas.core.frame.DataFrame'>\n",
      "Index: 3359 entries, 0 to 3386\n",
      "Data columns (total 5 columns):\n",
      " #   Column          Non-Null Count  Dtype  \n",
      "---  ------          --------------  -----  \n",
      " 0   title           3359 non-null   object \n",
      " 1   studio          3356 non-null   object \n",
      " 2   domestic_gross  3359 non-null   float64\n",
      " 3   foreign_gross   3359 non-null   object \n",
      " 4   year            3359 non-null   int64  \n",
      "dtypes: float64(1), int64(1), object(3)\n",
      "memory usage: 157.5+ KB\n"
     ]
    }
   ],
   "source": [
    "# Checking the data types of each column\n",
    "gross_data.info()"
   ]
  },
  {
   "cell_type": "code",
   "execution_count": 43,
   "metadata": {},
   "outputs": [
    {
     "name": "stdout",
     "output_type": "stream",
     "text": [
      "[]\n",
      "[nan, nan, nan]\n",
      "[]\n",
      "[]\n",
      "[]\n"
     ]
    }
   ],
   "source": [
    "# Checking for the 5 columns if there's a value which does not match the datatype.\n",
    "# Starting with the title column\n",
    "wrong_title_type = [x for x in gross_data['title'] if type(x) != str]\n",
    "print(wrong_title_type)  # No wrong datatypes\n",
    "\n",
    "# Then the studio column\n",
    "wrong_studio_type = [x for x in gross_data['studio'] if type(x) != str]\n",
    "print(wrong_studio_type)  # 3 rows with wrong datatypes\n",
    "\n",
    "# Then the domestic_gross column\n",
    "wrong_domestic_gross = [x for x in gross_data['domestic_gross'] if type(x) != float]\n",
    "print(wrong_domestic_gross)  # No wrong domestic gross\n",
    "\n",
    "# Then the foreign_gross column\n",
    "wrong_foreign_gross = [x for x in gross_data['foreign_gross'] if type(x) != str]\n",
    "print(wrong_foreign_gross)  # No wrong foreign gross\n",
    "\n",
    "# And finally the year column\n",
    "wrong_year_type = [x for x in gross_data['year'] if type(x) != int]\n",
    "print(wrong_year_type)  # No wrong year"
   ]
  },
  {
   "cell_type": "code",
   "execution_count": 44,
   "metadata": {},
   "outputs": [
    {
     "name": "stdout",
     "output_type": "stream",
     "text": [
      "After replacing\n",
      "Empty DataFrame\n",
      "Columns: [title, studio, domestic_gross, foreign_gross, year]\n",
      "Index: []\n"
     ]
    }
   ],
   "source": [
    "# Since there are only 3 values we can just google the name of the studios.\n",
    "# For row 210 the studio name is Tessalit Productions hence replacing Nan.\n",
    "gross_data.loc[210, 'studio'] = 'Tessalit Productions'\n",
    "\n",
    "# For row 555 the studio name is Senator Entertainment Inc.\n",
    "gross_data.loc[555, 'studio'] = 'Senator Entertainment Inc'\n",
    "\n",
    "# For row 1862 the producer is Mandy Jacobson as it was a documentary\n",
    "gross_data.loc[1862, 'studio'] = ' Mandy Jacobson'\n",
    "\n",
    "print('After replacing')\n",
    "print(gross_data[gross_data['studio'].isna()])  # No more nan values\n"
   ]
  },
  {
   "attachments": {},
   "cell_type": "markdown",
   "metadata": {},
   "source": [
    "**4. Handling outliers**"
   ]
  },
  {
   "cell_type": "code",
   "execution_count": 45,
   "metadata": {},
   "outputs": [
    {
     "name": "stdout",
     "output_type": "stream",
     "text": [
      "<class 'pandas.core.frame.DataFrame'>\n",
      "Index: 3359 entries, 0 to 3386\n",
      "Data columns (total 5 columns):\n",
      " #   Column          Non-Null Count  Dtype  \n",
      "---  ------          --------------  -----  \n",
      " 0   title           3359 non-null   object \n",
      " 1   studio          3359 non-null   object \n",
      " 2   domestic_gross  3359 non-null   float64\n",
      " 3   foreign_gross   3359 non-null   object \n",
      " 4   year            3359 non-null   int64  \n",
      "dtypes: float64(1), int64(1), object(3)\n",
      "memory usage: 286.5+ KB\n"
     ]
    }
   ],
   "source": [
    "# Seeing general info of the data.\n",
    "gross_data.info()  # The numeric values are domestic_gross and year"
   ]
  },
  {
   "cell_type": "code",
   "execution_count": 46,
   "metadata": {},
   "outputs": [
    {
     "name": "stdout",
     "output_type": "stream",
     "text": [
      "-41550000.0\n",
      "The number of outliers is 406\n",
      "The length of the column without outliers is 2953\n"
     ]
    }
   ],
   "source": [
    "# Starting with the domestic_gross column\n",
    "\n",
    "#  Finding the lower quantile\n",
    "Q1 = gross_data['domestic_gross'].quantile(0.25)\n",
    "\n",
    "# Finding the upper quantile\n",
    "Q3 = gross_data['domestic_gross'].quantile(0.75)\n",
    "\n",
    "# Finding IQR\n",
    "IQR = Q3 - Q1\n",
    "\n",
    "# Defining the lower bound and upper bound\n",
    "lower_bound = Q1 - (1.5 * IQR)\n",
    "upper_bound = Q3 + (1.5 * IQR)\n",
    "print(lower_bound)\n",
    "\n",
    "# Finding outliers\n",
    "outliers = gross_data['domestic_gross'][(gross_data['domestic_gross'] < lower_bound) | (gross_data['domestic_gross'] > upper_bound)]\n",
    "print('The number of outliers is', len(outliers))\n",
    "\n",
    "# Data without outliers\n",
    "standardized_ratings = gross_data['domestic_gross'][(gross_data['domestic_gross'] > lower_bound) & (gross_data['domestic_gross'] < upper_bound)]\n",
    "print('The length of the column without outliers is', len(standardized_ratings))\n",
    "\n",
    "# There are outliers but that shouldn't affect our analysis as some movies earn a profit and some don't"
   ]
  },
  {
   "cell_type": "code",
   "execution_count": 47,
   "metadata": {},
   "outputs": [
    {
     "name": "stdout",
     "output_type": "stream",
     "text": [
      "2006.0\n",
      "The number of outliers is 0\n",
      "The length of the column without outliers is 3359\n"
     ]
    }
   ],
   "source": [
    "# Starting with the domestic_gross column\n",
    "\n",
    "#  Finding the lower quantile\n",
    "Q1 = gross_data['year'].quantile(0.25)\n",
    "\n",
    "# Finding the upper quantile\n",
    "Q3 = gross_data['year'].quantile(0.75)\n",
    "\n",
    "# Finding IQR\n",
    "IQR = Q3 - Q1\n",
    "\n",
    "# Defining the lower bound and upper bound\n",
    "lower_bound = Q1 - (1.5 * IQR)\n",
    "upper_bound = Q3 + (1.5 * IQR)\n",
    "print(lower_bound)\n",
    "\n",
    "# Finding outliers\n",
    "outliers = gross_data['year'][(gross_data['year'] < lower_bound) | (gross_data['year'] > upper_bound)]\n",
    "print('The number of outliers is', len(outliers))\n",
    "\n",
    "# Data without outliers\n",
    "standardized_ratings = gross_data['year'][(gross_data['year'] > lower_bound) & (gross_data['year'] < upper_bound)]\n",
    "print('The length of the column without outliers is', len(standardized_ratings))\n",
    "\n",
    "# The year column has no outliers"
   ]
  },
  {
   "cell_type": "code",
   "execution_count": 63,
   "metadata": {},
   "outputs": [
    {
     "name": "stdout",
     "output_type": "stream",
     "text": [
      "<class 'pandas.core.frame.DataFrame'>\n",
      "Index: 3359 entries, 0 to 3386\n",
      "Data columns (total 5 columns):\n",
      " #   Column          Non-Null Count  Dtype  \n",
      "---  ------          --------------  -----  \n",
      " 0   title           3359 non-null   object \n",
      " 1   studio          3359 non-null   object \n",
      " 2   domestic_gross  3359 non-null   float64\n",
      " 3   foreign_gross   3359 non-null   float64\n",
      " 4   year            3359 non-null   int64  \n",
      "dtypes: float64(2), int64(1), object(2)\n",
      "memory usage: 286.5+ KB\n"
     ]
    }
   ],
   "source": [
    "# One last thing converting the tables with numbers to be numeric.\n",
    "# gross_data['foreign_gross'] = gross_data['foreign_gross'].str.replace('$', '').str.replace(',', '').astype(float)\n",
    "gross_data.info()"
   ]
  },
  {
   "attachments": {},
   "cell_type": "markdown",
   "metadata": {},
   "source": [
    "## 4. Ratings"
   ]
  },
  {
   "attachments": {},
   "cell_type": "markdown",
   "metadata": {},
   "source": [
    "**1. Checking for missing values**"
   ]
  },
  {
   "attachments": {},
   "cell_type": "markdown",
   "metadata": {},
   "source": [
    "####  Checking general info of the table."
   ]
  },
  {
   "cell_type": "code",
   "execution_count": 64,
   "metadata": {},
   "outputs": [
    {
     "name": "stdout",
     "output_type": "stream",
     "text": [
      "<class 'pandas.core.frame.DataFrame'>\n",
      "RangeIndex: 73856 entries, 0 to 73855\n",
      "Data columns (total 3 columns):\n",
      " #   Column         Non-Null Count  Dtype  \n",
      "---  ------         --------------  -----  \n",
      " 0   tconst         73856 non-null  object \n",
      " 1   averagerating  73856 non-null  float64\n",
      " 2   numvotes       73856 non-null  int64  \n",
      "dtypes: float64(1), int64(1), object(1)\n",
      "memory usage: 1.7+ MB\n"
     ]
    }
   ],
   "source": [
    "ratings_data.info()"
   ]
  },
  {
   "cell_type": "code",
   "execution_count": 65,
   "metadata": {},
   "outputs": [
    {
     "data": {
      "text/plain": [
       "tconst           0\n",
       "averagerating    0\n",
       "numvotes         0\n",
       "dtype: int64"
      ]
     },
     "execution_count": 65,
     "metadata": {},
     "output_type": "execute_result"
    }
   ],
   "source": [
    "# Looking for missing values\n",
    "ratings_data.isnull().sum() # No missing values"
   ]
  },
  {
   "attachments": {},
   "cell_type": "markdown",
   "metadata": {},
   "source": [
    "**2. Checking for duplicates**"
   ]
  },
  {
   "cell_type": "code",
   "execution_count": 66,
   "metadata": {},
   "outputs": [
    {
     "data": {
      "text/html": [
       "<div>\n",
       "<style scoped>\n",
       "    .dataframe tbody tr th:only-of-type {\n",
       "        vertical-align: middle;\n",
       "    }\n",
       "\n",
       "    .dataframe tbody tr th {\n",
       "        vertical-align: top;\n",
       "    }\n",
       "\n",
       "    .dataframe thead th {\n",
       "        text-align: right;\n",
       "    }\n",
       "</style>\n",
       "<table border=\"1\" class=\"dataframe\">\n",
       "  <thead>\n",
       "    <tr style=\"text-align: right;\">\n",
       "      <th></th>\n",
       "      <th>tconst</th>\n",
       "      <th>averagerating</th>\n",
       "      <th>numvotes</th>\n",
       "    </tr>\n",
       "  </thead>\n",
       "  <tbody>\n",
       "  </tbody>\n",
       "</table>\n",
       "</div>"
      ],
      "text/plain": [
       "Empty DataFrame\n",
       "Columns: [tconst, averagerating, numvotes]\n",
       "Index: []"
      ]
     },
     "execution_count": 66,
     "metadata": {},
     "output_type": "execute_result"
    }
   ],
   "source": [
    "ratings_data[ratings_data.duplicated()]  # There are no duplicates"
   ]
  },
  {
   "attachments": {},
   "cell_type": "markdown",
   "metadata": {},
   "source": [
    "**3. Correcting datatypes**"
   ]
  },
  {
   "cell_type": "code",
   "execution_count": 67,
   "metadata": {},
   "outputs": [
    {
     "name": "stdout",
     "output_type": "stream",
     "text": [
      "<class 'pandas.core.frame.DataFrame'>\n",
      "RangeIndex: 73856 entries, 0 to 73855\n",
      "Data columns (total 3 columns):\n",
      " #   Column         Non-Null Count  Dtype  \n",
      "---  ------         --------------  -----  \n",
      " 0   tconst         73856 non-null  object \n",
      " 1   averagerating  73856 non-null  float64\n",
      " 2   numvotes       73856 non-null  int64  \n",
      "dtypes: float64(1), int64(1), object(1)\n",
      "memory usage: 1.7+ MB\n"
     ]
    }
   ],
   "source": [
    "# Checking datatype for each column\n",
    "ratings_data.info()"
   ]
  },
  {
   "cell_type": "code",
   "execution_count": 68,
   "metadata": {},
   "outputs": [
    {
     "name": "stdout",
     "output_type": "stream",
     "text": [
      "[]\n",
      "[]\n",
      "[]\n"
     ]
    }
   ],
   "source": [
    "# Checking for the 3 columns if there's a value which does not match the datatype.\n",
    "# Starting with the tconst column\n",
    "wrong_tconst = [x for x in ratings_data['tconst'] if type(x) != str]\n",
    "print(wrong_tconst)  # No wrong datatypes in tconst column\n",
    "\n",
    "# Then the averagerating column\n",
    "wrong_averagerating = [x for x in ratings_data['averagerating'] if type(x) != float]\n",
    "print(wrong_averagerating)  # 3 rows with wrong datatypes\n",
    "\n",
    "# Then the numvotes column\n",
    "wrong_numvotes = [x for x in ratings_data['numvotes'] if type(x) != int]\n",
    "print(wrong_domestic_gross)  # No wrong datatypes in numvotes column\n",
    "\n",
    "# No rows with wrong datatype in any of the columns."
   ]
  },
  {
   "attachments": {},
   "cell_type": "markdown",
   "metadata": {},
   "source": [
    "**4. Handling outliers**"
   ]
  },
  {
   "cell_type": "code",
   "execution_count": 69,
   "metadata": {},
   "outputs": [
    {
     "name": "stdout",
     "output_type": "stream",
     "text": [
      "<class 'pandas.core.frame.DataFrame'>\n",
      "RangeIndex: 73856 entries, 0 to 73855\n",
      "Data columns (total 3 columns):\n",
      " #   Column         Non-Null Count  Dtype  \n",
      "---  ------         --------------  -----  \n",
      " 0   tconst         73856 non-null  object \n",
      " 1   averagerating  73856 non-null  float64\n",
      " 2   numvotes       73856 non-null  int64  \n",
      "dtypes: float64(1), int64(1), object(1)\n",
      "memory usage: 1.7+ MB\n"
     ]
    }
   ],
   "source": [
    "# Seeing the general info of the table.\n",
    "ratings_data.info()  # Two tables with numeric values which are averagerating and numvotes"
   ]
  },
  {
   "cell_type": "code",
   "execution_count": 55,
   "metadata": {},
   "outputs": [
    {
     "name": "stdout",
     "output_type": "stream",
     "text": [
      "2.6499999999999995\n",
      "The number of outliers is 1172\n",
      "The length of the column without outliers is 72684\n"
     ]
    }
   ],
   "source": [
    "# Starting with the averagerating column\n",
    "\n",
    "#  Finding the lower quantile\n",
    "Q1 = ratings_data['averagerating'].quantile(0.25)\n",
    "\n",
    "# Finding the upper quantile\n",
    "Q3 = ratings_data['averagerating'].quantile(0.75)\n",
    "\n",
    "# Finding IQR\n",
    "IQR = Q3 - Q1\n",
    "\n",
    "# Defining the lower bound and upper bound\n",
    "lower_bound = Q1 - (1.5 * IQR)\n",
    "upper_bound = Q3 + (1.5 * IQR)\n",
    "print(lower_bound)\n",
    "\n",
    "# Finding outliers\n",
    "outliers = ratings_data['averagerating'][(ratings_data['averagerating'] < lower_bound) | (ratings_data['averagerating'] > upper_bound)]\n",
    "print('The number of outliers is', len(outliers))\n",
    "\n",
    "# Data without outliers\n",
    "standardized_ratings = ratings_data['averagerating'][(ratings_data['averagerating'] > lower_bound) & (ratings_data['averagerating'] < upper_bound)]\n",
    "print('The length of the column without outliers is', len(standardized_ratings))\n",
    "\n",
    "# Yes there are outliers but some movies are just that bad so no need in removing outliers."
   ]
  },
  {
   "cell_type": "code",
   "execution_count": 70,
   "metadata": {},
   "outputs": [
    {
     "name": "stdout",
     "output_type": "stream",
     "text": [
      "-388.0\n",
      "The number of outliers is 11758\n",
      "The length of the column without outliers is 62089\n"
     ]
    },
    {
     "data": {
      "text/html": [
       "<div>\n",
       "<style scoped>\n",
       "    .dataframe tbody tr th:only-of-type {\n",
       "        vertical-align: middle;\n",
       "    }\n",
       "\n",
       "    .dataframe tbody tr th {\n",
       "        vertical-align: top;\n",
       "    }\n",
       "\n",
       "    .dataframe thead th {\n",
       "        text-align: right;\n",
       "    }\n",
       "</style>\n",
       "<table border=\"1\" class=\"dataframe\">\n",
       "  <thead>\n",
       "    <tr style=\"text-align: right;\">\n",
       "      <th></th>\n",
       "      <th>tconst</th>\n",
       "      <th>averagerating</th>\n",
       "      <th>numvotes</th>\n",
       "    </tr>\n",
       "  </thead>\n",
       "  <tbody>\n",
       "    <tr>\n",
       "      <th>0</th>\n",
       "      <td>tt10356526</td>\n",
       "      <td>8.3</td>\n",
       "      <td>31</td>\n",
       "    </tr>\n",
       "    <tr>\n",
       "      <th>1</th>\n",
       "      <td>tt10384606</td>\n",
       "      <td>8.9</td>\n",
       "      <td>559</td>\n",
       "    </tr>\n",
       "    <tr>\n",
       "      <th>2</th>\n",
       "      <td>tt1042974</td>\n",
       "      <td>6.4</td>\n",
       "      <td>20</td>\n",
       "    </tr>\n",
       "    <tr>\n",
       "      <th>4</th>\n",
       "      <td>tt1060240</td>\n",
       "      <td>6.5</td>\n",
       "      <td>21</td>\n",
       "    </tr>\n",
       "    <tr>\n",
       "      <th>5</th>\n",
       "      <td>tt1069246</td>\n",
       "      <td>6.2</td>\n",
       "      <td>326</td>\n",
       "    </tr>\n",
       "    <tr>\n",
       "      <th>...</th>\n",
       "      <td>...</td>\n",
       "      <td>...</td>\n",
       "      <td>...</td>\n",
       "    </tr>\n",
       "    <tr>\n",
       "      <th>73851</th>\n",
       "      <td>tt9805820</td>\n",
       "      <td>8.1</td>\n",
       "      <td>25</td>\n",
       "    </tr>\n",
       "    <tr>\n",
       "      <th>73852</th>\n",
       "      <td>tt9844256</td>\n",
       "      <td>7.5</td>\n",
       "      <td>24</td>\n",
       "    </tr>\n",
       "    <tr>\n",
       "      <th>73853</th>\n",
       "      <td>tt9851050</td>\n",
       "      <td>4.7</td>\n",
       "      <td>14</td>\n",
       "    </tr>\n",
       "    <tr>\n",
       "      <th>73854</th>\n",
       "      <td>tt9886934</td>\n",
       "      <td>7.0</td>\n",
       "      <td>5</td>\n",
       "    </tr>\n",
       "    <tr>\n",
       "      <th>73855</th>\n",
       "      <td>tt9894098</td>\n",
       "      <td>6.3</td>\n",
       "      <td>128</td>\n",
       "    </tr>\n",
       "  </tbody>\n",
       "</table>\n",
       "<p>62089 rows × 3 columns</p>\n",
       "</div>"
      ],
      "text/plain": [
       "           tconst  averagerating  numvotes\n",
       "0      tt10356526            8.3        31\n",
       "1      tt10384606            8.9       559\n",
       "2       tt1042974            6.4        20\n",
       "4       tt1060240            6.5        21\n",
       "5       tt1069246            6.2       326\n",
       "...           ...            ...       ...\n",
       "73851   tt9805820            8.1        25\n",
       "73852   tt9844256            7.5        24\n",
       "73853   tt9851050            4.7        14\n",
       "73854   tt9886934            7.0         5\n",
       "73855   tt9894098            6.3       128\n",
       "\n",
       "[62089 rows x 3 columns]"
      ]
     },
     "execution_count": 70,
     "metadata": {},
     "output_type": "execute_result"
    }
   ],
   "source": [
    "# Then the numvotes column\n",
    "\n",
    "#  Finding the lower quantile\n",
    "Q1 = ratings_data['numvotes'].quantile(0.25)\n",
    "\n",
    "# Finding the upper quantile\n",
    "Q3 = ratings_data['numvotes'].quantile(0.75)\n",
    "\n",
    "# Finding IQR\n",
    "IQR = Q3 - Q1\n",
    "\n",
    "# Defining the lower bound and upper bound\n",
    "lower_bound = Q1 - (1.5 * IQR)\n",
    "upper_bound = Q3 + (1.5 * IQR)\n",
    "print(lower_bound)\n",
    "\n",
    "# Finding outliers\n",
    "outliers = ratings_data['numvotes'][(ratings_data['numvotes'] < lower_bound) | (ratings_data['numvotes'] > upper_bound)]\n",
    "print('The number of outliers is', len(outliers))\n",
    "\n",
    "# Data without outliers\n",
    "standardized_ratings = ratings_data[(ratings_data['numvotes'] > lower_bound) & (ratings_data['numvotes'] < upper_bound)]\n",
    "print('The length of the column without outliers is', len(standardized_ratings))\n",
    "\n",
    "standardized_ratings"
   ]
  },
  {
   "cell_type": "code",
   "execution_count": 56,
   "metadata": {},
   "outputs": [],
   "source": [
    "# From now on during analysis of the ratings column we shall use the standardized_ratings variable."
   ]
  },
  {
   "attachments": {},
   "cell_type": "markdown",
   "metadata": {},
   "source": [
    "## 5. Budgets"
   ]
  },
  {
   "attachments": {},
   "cell_type": "markdown",
   "metadata": {},
   "source": [
    "**1. Checking missing values**"
   ]
  },
  {
   "attachments": {},
   "cell_type": "markdown",
   "metadata": {},
   "source": [
    "#### Checking general info of the table."
   ]
  },
  {
   "cell_type": "code",
   "execution_count": 71,
   "metadata": {},
   "outputs": [
    {
     "name": "stdout",
     "output_type": "stream",
     "text": [
      "<class 'pandas.core.frame.DataFrame'>\n",
      "RangeIndex: 5782 entries, 0 to 5781\n",
      "Data columns (total 6 columns):\n",
      " #   Column             Non-Null Count  Dtype \n",
      "---  ------             --------------  ----- \n",
      " 0   id                 5782 non-null   int64 \n",
      " 1   release_date       5782 non-null   object\n",
      " 2   movie              5782 non-null   object\n",
      " 3   production_budget  5782 non-null   object\n",
      " 4   domestic_gross     5782 non-null   object\n",
      " 5   worldwide_gross    5782 non-null   object\n",
      "dtypes: int64(1), object(5)\n",
      "memory usage: 271.2+ KB\n"
     ]
    }
   ],
   "source": [
    "budgets_data.info()"
   ]
  },
  {
   "cell_type": "code",
   "execution_count": 72,
   "metadata": {},
   "outputs": [
    {
     "data": {
      "text/plain": [
       "id                   0\n",
       "release_date         0\n",
       "movie                0\n",
       "production_budget    0\n",
       "domestic_gross       0\n",
       "worldwide_gross      0\n",
       "dtype: int64"
      ]
     },
     "execution_count": 72,
     "metadata": {},
     "output_type": "execute_result"
    }
   ],
   "source": [
    "# Checking for missing values\n",
    "budgets_data.isnull().sum()  # No missing values"
   ]
  },
  {
   "attachments": {},
   "cell_type": "markdown",
   "metadata": {},
   "source": [
    "**2. Checking for duplicates**"
   ]
  },
  {
   "cell_type": "code",
   "execution_count": 73,
   "metadata": {},
   "outputs": [
    {
     "data": {
      "text/html": [
       "<div>\n",
       "<style scoped>\n",
       "    .dataframe tbody tr th:only-of-type {\n",
       "        vertical-align: middle;\n",
       "    }\n",
       "\n",
       "    .dataframe tbody tr th {\n",
       "        vertical-align: top;\n",
       "    }\n",
       "\n",
       "    .dataframe thead th {\n",
       "        text-align: right;\n",
       "    }\n",
       "</style>\n",
       "<table border=\"1\" class=\"dataframe\">\n",
       "  <thead>\n",
       "    <tr style=\"text-align: right;\">\n",
       "      <th></th>\n",
       "      <th>id</th>\n",
       "      <th>release_date</th>\n",
       "      <th>movie</th>\n",
       "      <th>production_budget</th>\n",
       "      <th>domestic_gross</th>\n",
       "      <th>worldwide_gross</th>\n",
       "    </tr>\n",
       "  </thead>\n",
       "  <tbody>\n",
       "  </tbody>\n",
       "</table>\n",
       "</div>"
      ],
      "text/plain": [
       "Empty DataFrame\n",
       "Columns: [id, release_date, movie, production_budget, domestic_gross, worldwide_gross]\n",
       "Index: []"
      ]
     },
     "execution_count": 73,
     "metadata": {},
     "output_type": "execute_result"
    }
   ],
   "source": [
    "budgets_data[budgets_data.duplicated()]  # No duplicates"
   ]
  },
  {
   "attachments": {},
   "cell_type": "markdown",
   "metadata": {},
   "source": [
    "**3. Correcting data types**"
   ]
  },
  {
   "cell_type": "code",
   "execution_count": 74,
   "metadata": {},
   "outputs": [
    {
     "name": "stdout",
     "output_type": "stream",
     "text": [
      "<class 'pandas.core.frame.DataFrame'>\n",
      "RangeIndex: 5782 entries, 0 to 5781\n",
      "Data columns (total 6 columns):\n",
      " #   Column             Non-Null Count  Dtype \n",
      "---  ------             --------------  ----- \n",
      " 0   id                 5782 non-null   int64 \n",
      " 1   release_date       5782 non-null   object\n",
      " 2   movie              5782 non-null   object\n",
      " 3   production_budget  5782 non-null   object\n",
      " 4   domestic_gross     5782 non-null   object\n",
      " 5   worldwide_gross    5782 non-null   object\n",
      "dtypes: int64(1), object(5)\n",
      "memory usage: 271.2+ KB\n"
     ]
    }
   ],
   "source": [
    "# Checking datatype for each column\n",
    "budgets_data.info()"
   ]
  },
  {
   "cell_type": "code",
   "execution_count": 75,
   "metadata": {},
   "outputs": [
    {
     "name": "stdout",
     "output_type": "stream",
     "text": [
      "[]\n",
      "[]\n",
      "[]\n",
      "[]\n",
      "[]\n",
      "[]\n"
     ]
    }
   ],
   "source": [
    "# Checking for the 6 columns if there's a value which does not match the datatype.\n",
    "# Starting with the id column\n",
    "wrong_id = [x for x in budgets_data['id'] if type(x) != int]\n",
    "print(wrong_id)  # No wrong datatypes\n",
    "\n",
    "# Then the release_date column\n",
    "wrong_release_date = [x for x in budgets_data['release_date'] if type(x) != str]\n",
    "print(wrong_release_date)  # 3 rows with wrong datatypes\n",
    "\n",
    "# Then the movie column\n",
    "wrong_movie_data = [x for x in budgets_data['movie'] if type(x) != str]\n",
    "print(wrong_movie_data)  # No wrong domestic gross\n",
    "\n",
    "# Then the production budget column\n",
    "wrong_budgets_data = [x for x in budgets_data['production_budget'] if type(x) != str]\n",
    "print(wrong_budgets_data)  # No wrong foreign gross\n",
    "\n",
    "# Then the domestic gross column\n",
    "wrong_domestic_gross_data = [x for x in budgets_data['domestic_gross'] if type(x) != str]\n",
    "print(wrong_domestic_gross_data)  # No wrong year\n",
    "\n",
    "# Then the worldwide gross column\n",
    "wrong_worldwide_gross_data = [x for x in budgets_data['worldwide_gross'] if type(x) != str]\n",
    "print(wrong_worldwide_gross_data)  # No wrong year\n",
    "\n",
    "# No wrong datatypes in the budgets_data column"
   ]
  },
  {
   "cell_type": "code",
   "execution_count": 76,
   "metadata": {},
   "outputs": [
    {
     "data": {
      "text/html": [
       "<div>\n",
       "<style scoped>\n",
       "    .dataframe tbody tr th:only-of-type {\n",
       "        vertical-align: middle;\n",
       "    }\n",
       "\n",
       "    .dataframe tbody tr th {\n",
       "        vertical-align: top;\n",
       "    }\n",
       "\n",
       "    .dataframe thead th {\n",
       "        text-align: right;\n",
       "    }\n",
       "</style>\n",
       "<table border=\"1\" class=\"dataframe\">\n",
       "  <thead>\n",
       "    <tr style=\"text-align: right;\">\n",
       "      <th></th>\n",
       "      <th>id</th>\n",
       "      <th>release_date</th>\n",
       "      <th>movie</th>\n",
       "      <th>production_budget</th>\n",
       "      <th>domestic_gross</th>\n",
       "      <th>worldwide_gross</th>\n",
       "    </tr>\n",
       "  </thead>\n",
       "  <tbody>\n",
       "    <tr>\n",
       "      <th>0</th>\n",
       "      <td>1</td>\n",
       "      <td>Dec 18, 2009</td>\n",
       "      <td>Avatar</td>\n",
       "      <td>$425,000,000</td>\n",
       "      <td>$760,507,625</td>\n",
       "      <td>$2,776,345,279</td>\n",
       "    </tr>\n",
       "    <tr>\n",
       "      <th>1</th>\n",
       "      <td>2</td>\n",
       "      <td>May 20, 2011</td>\n",
       "      <td>Pirates of the Caribbean: On Stranger Tides</td>\n",
       "      <td>$410,600,000</td>\n",
       "      <td>$241,063,875</td>\n",
       "      <td>$1,045,663,875</td>\n",
       "    </tr>\n",
       "    <tr>\n",
       "      <th>2</th>\n",
       "      <td>3</td>\n",
       "      <td>Jun 7, 2019</td>\n",
       "      <td>Dark Phoenix</td>\n",
       "      <td>$350,000,000</td>\n",
       "      <td>$42,762,350</td>\n",
       "      <td>$149,762,350</td>\n",
       "    </tr>\n",
       "    <tr>\n",
       "      <th>3</th>\n",
       "      <td>4</td>\n",
       "      <td>May 1, 2015</td>\n",
       "      <td>Avengers: Age of Ultron</td>\n",
       "      <td>$330,600,000</td>\n",
       "      <td>$459,005,868</td>\n",
       "      <td>$1,403,013,963</td>\n",
       "    </tr>\n",
       "    <tr>\n",
       "      <th>4</th>\n",
       "      <td>5</td>\n",
       "      <td>Dec 15, 2017</td>\n",
       "      <td>Star Wars Ep. VIII: The Last Jedi</td>\n",
       "      <td>$317,000,000</td>\n",
       "      <td>$620,181,382</td>\n",
       "      <td>$1,316,721,747</td>\n",
       "    </tr>\n",
       "    <tr>\n",
       "      <th>...</th>\n",
       "      <td>...</td>\n",
       "      <td>...</td>\n",
       "      <td>...</td>\n",
       "      <td>...</td>\n",
       "      <td>...</td>\n",
       "      <td>...</td>\n",
       "    </tr>\n",
       "    <tr>\n",
       "      <th>5777</th>\n",
       "      <td>78</td>\n",
       "      <td>Dec 31, 2018</td>\n",
       "      <td>Red 11</td>\n",
       "      <td>$7,000</td>\n",
       "      <td>$0</td>\n",
       "      <td>$0</td>\n",
       "    </tr>\n",
       "    <tr>\n",
       "      <th>5778</th>\n",
       "      <td>79</td>\n",
       "      <td>Apr 2, 1999</td>\n",
       "      <td>Following</td>\n",
       "      <td>$6,000</td>\n",
       "      <td>$48,482</td>\n",
       "      <td>$240,495</td>\n",
       "    </tr>\n",
       "    <tr>\n",
       "      <th>5779</th>\n",
       "      <td>80</td>\n",
       "      <td>Jul 13, 2005</td>\n",
       "      <td>Return to the Land of Wonders</td>\n",
       "      <td>$5,000</td>\n",
       "      <td>$1,338</td>\n",
       "      <td>$1,338</td>\n",
       "    </tr>\n",
       "    <tr>\n",
       "      <th>5780</th>\n",
       "      <td>81</td>\n",
       "      <td>Sep 29, 2015</td>\n",
       "      <td>A Plague So Pleasant</td>\n",
       "      <td>$1,400</td>\n",
       "      <td>$0</td>\n",
       "      <td>$0</td>\n",
       "    </tr>\n",
       "    <tr>\n",
       "      <th>5781</th>\n",
       "      <td>82</td>\n",
       "      <td>Aug 5, 2005</td>\n",
       "      <td>My Date With Drew</td>\n",
       "      <td>$1,100</td>\n",
       "      <td>$181,041</td>\n",
       "      <td>$181,041</td>\n",
       "    </tr>\n",
       "  </tbody>\n",
       "</table>\n",
       "<p>5782 rows × 6 columns</p>\n",
       "</div>"
      ],
      "text/plain": [
       "      id  release_date                                        movie   \n",
       "0      1  Dec 18, 2009                                       Avatar  \\\n",
       "1      2  May 20, 2011  Pirates of the Caribbean: On Stranger Tides   \n",
       "2      3   Jun 7, 2019                                 Dark Phoenix   \n",
       "3      4   May 1, 2015                      Avengers: Age of Ultron   \n",
       "4      5  Dec 15, 2017            Star Wars Ep. VIII: The Last Jedi   \n",
       "...   ..           ...                                          ...   \n",
       "5777  78  Dec 31, 2018                                       Red 11   \n",
       "5778  79   Apr 2, 1999                                    Following   \n",
       "5779  80  Jul 13, 2005                Return to the Land of Wonders   \n",
       "5780  81  Sep 29, 2015                         A Plague So Pleasant   \n",
       "5781  82   Aug 5, 2005                            My Date With Drew   \n",
       "\n",
       "     production_budget domestic_gross worldwide_gross  \n",
       "0         $425,000,000   $760,507,625  $2,776,345,279  \n",
       "1         $410,600,000   $241,063,875  $1,045,663,875  \n",
       "2         $350,000,000    $42,762,350    $149,762,350  \n",
       "3         $330,600,000   $459,005,868  $1,403,013,963  \n",
       "4         $317,000,000   $620,181,382  $1,316,721,747  \n",
       "...                ...            ...             ...  \n",
       "5777            $7,000             $0              $0  \n",
       "5778            $6,000        $48,482        $240,495  \n",
       "5779            $5,000         $1,338          $1,338  \n",
       "5780            $1,400             $0              $0  \n",
       "5781            $1,100       $181,041        $181,041  \n",
       "\n",
       "[5782 rows x 6 columns]"
      ]
     },
     "execution_count": 76,
     "metadata": {},
     "output_type": "execute_result"
    }
   ],
   "source": [
    "budgets_data"
   ]
  },
  {
   "cell_type": "code",
   "execution_count": 77,
   "metadata": {},
   "outputs": [
    {
     "data": {
      "text/html": [
       "<div>\n",
       "<style scoped>\n",
       "    .dataframe tbody tr th:only-of-type {\n",
       "        vertical-align: middle;\n",
       "    }\n",
       "\n",
       "    .dataframe tbody tr th {\n",
       "        vertical-align: top;\n",
       "    }\n",
       "\n",
       "    .dataframe thead th {\n",
       "        text-align: right;\n",
       "    }\n",
       "</style>\n",
       "<table border=\"1\" class=\"dataframe\">\n",
       "  <thead>\n",
       "    <tr style=\"text-align: right;\">\n",
       "      <th></th>\n",
       "      <th>id</th>\n",
       "      <th>release_date</th>\n",
       "      <th>movie</th>\n",
       "      <th>production_budget</th>\n",
       "      <th>domestic_gross</th>\n",
       "      <th>worldwide_gross</th>\n",
       "    </tr>\n",
       "  </thead>\n",
       "  <tbody>\n",
       "    <tr>\n",
       "      <th>0</th>\n",
       "      <td>1</td>\n",
       "      <td>Dec 18, 2009</td>\n",
       "      <td>Avatar</td>\n",
       "      <td>425000000.0</td>\n",
       "      <td>760507625.0</td>\n",
       "      <td>2.776345e+09</td>\n",
       "    </tr>\n",
       "    <tr>\n",
       "      <th>1</th>\n",
       "      <td>2</td>\n",
       "      <td>May 20, 2011</td>\n",
       "      <td>Pirates of the Caribbean: On Stranger Tides</td>\n",
       "      <td>410600000.0</td>\n",
       "      <td>241063875.0</td>\n",
       "      <td>1.045664e+09</td>\n",
       "    </tr>\n",
       "    <tr>\n",
       "      <th>2</th>\n",
       "      <td>3</td>\n",
       "      <td>Jun 7, 2019</td>\n",
       "      <td>Dark Phoenix</td>\n",
       "      <td>350000000.0</td>\n",
       "      <td>42762350.0</td>\n",
       "      <td>1.497624e+08</td>\n",
       "    </tr>\n",
       "    <tr>\n",
       "      <th>3</th>\n",
       "      <td>4</td>\n",
       "      <td>May 1, 2015</td>\n",
       "      <td>Avengers: Age of Ultron</td>\n",
       "      <td>330600000.0</td>\n",
       "      <td>459005868.0</td>\n",
       "      <td>1.403014e+09</td>\n",
       "    </tr>\n",
       "    <tr>\n",
       "      <th>4</th>\n",
       "      <td>5</td>\n",
       "      <td>Dec 15, 2017</td>\n",
       "      <td>Star Wars Ep. VIII: The Last Jedi</td>\n",
       "      <td>317000000.0</td>\n",
       "      <td>620181382.0</td>\n",
       "      <td>1.316722e+09</td>\n",
       "    </tr>\n",
       "    <tr>\n",
       "      <th>...</th>\n",
       "      <td>...</td>\n",
       "      <td>...</td>\n",
       "      <td>...</td>\n",
       "      <td>...</td>\n",
       "      <td>...</td>\n",
       "      <td>...</td>\n",
       "    </tr>\n",
       "    <tr>\n",
       "      <th>5777</th>\n",
       "      <td>78</td>\n",
       "      <td>Dec 31, 2018</td>\n",
       "      <td>Red 11</td>\n",
       "      <td>7000.0</td>\n",
       "      <td>0.0</td>\n",
       "      <td>0.000000e+00</td>\n",
       "    </tr>\n",
       "    <tr>\n",
       "      <th>5778</th>\n",
       "      <td>79</td>\n",
       "      <td>Apr 2, 1999</td>\n",
       "      <td>Following</td>\n",
       "      <td>6000.0</td>\n",
       "      <td>48482.0</td>\n",
       "      <td>2.404950e+05</td>\n",
       "    </tr>\n",
       "    <tr>\n",
       "      <th>5779</th>\n",
       "      <td>80</td>\n",
       "      <td>Jul 13, 2005</td>\n",
       "      <td>Return to the Land of Wonders</td>\n",
       "      <td>5000.0</td>\n",
       "      <td>1338.0</td>\n",
       "      <td>1.338000e+03</td>\n",
       "    </tr>\n",
       "    <tr>\n",
       "      <th>5780</th>\n",
       "      <td>81</td>\n",
       "      <td>Sep 29, 2015</td>\n",
       "      <td>A Plague So Pleasant</td>\n",
       "      <td>1400.0</td>\n",
       "      <td>0.0</td>\n",
       "      <td>0.000000e+00</td>\n",
       "    </tr>\n",
       "    <tr>\n",
       "      <th>5781</th>\n",
       "      <td>82</td>\n",
       "      <td>Aug 5, 2005</td>\n",
       "      <td>My Date With Drew</td>\n",
       "      <td>1100.0</td>\n",
       "      <td>181041.0</td>\n",
       "      <td>1.810410e+05</td>\n",
       "    </tr>\n",
       "  </tbody>\n",
       "</table>\n",
       "<p>5782 rows × 6 columns</p>\n",
       "</div>"
      ],
      "text/plain": [
       "      id  release_date                                        movie   \n",
       "0      1  Dec 18, 2009                                       Avatar  \\\n",
       "1      2  May 20, 2011  Pirates of the Caribbean: On Stranger Tides   \n",
       "2      3   Jun 7, 2019                                 Dark Phoenix   \n",
       "3      4   May 1, 2015                      Avengers: Age of Ultron   \n",
       "4      5  Dec 15, 2017            Star Wars Ep. VIII: The Last Jedi   \n",
       "...   ..           ...                                          ...   \n",
       "5777  78  Dec 31, 2018                                       Red 11   \n",
       "5778  79   Apr 2, 1999                                    Following   \n",
       "5779  80  Jul 13, 2005                Return to the Land of Wonders   \n",
       "5780  81  Sep 29, 2015                         A Plague So Pleasant   \n",
       "5781  82   Aug 5, 2005                            My Date With Drew   \n",
       "\n",
       "      production_budget  domestic_gross  worldwide_gross  \n",
       "0           425000000.0     760507625.0     2.776345e+09  \n",
       "1           410600000.0     241063875.0     1.045664e+09  \n",
       "2           350000000.0      42762350.0     1.497624e+08  \n",
       "3           330600000.0     459005868.0     1.403014e+09  \n",
       "4           317000000.0     620181382.0     1.316722e+09  \n",
       "...                 ...             ...              ...  \n",
       "5777             7000.0             0.0     0.000000e+00  \n",
       "5778             6000.0         48482.0     2.404950e+05  \n",
       "5779             5000.0          1338.0     1.338000e+03  \n",
       "5780             1400.0             0.0     0.000000e+00  \n",
       "5781             1100.0        181041.0     1.810410e+05  \n",
       "\n",
       "[5782 rows x 6 columns]"
      ]
     },
     "execution_count": 77,
     "metadata": {},
     "output_type": "execute_result"
    }
   ],
   "source": [
    "# # One last thing removing the dollar signs and commas from the production_budget, domestic_gross, worldwide_gross and also converting it to a float\n",
    "# # First the worldwide gross data\n",
    "# budgets_data['worldwide_gross'] = budgets_data['worldwide_gross'].str.replace('$', '').str.replace(',', '').astype(float)\n",
    "\n",
    "# # # Then the domestic_gross column\n",
    "# budgets_data['domestic_gross'] = budgets_data['domestic_gross'].str.replace('$', '').str.replace(',', '').astype(float)\n",
    "\n",
    "# # # And finally the production_budget column\n",
    "# budgets_data['production_budget'] = budgets_data['production_budget'].str.replace('$', '').str.replace(',', '').astype(float)\n",
    "\n",
    "budgets_data"
   ]
  },
  {
   "cell_type": "code",
   "execution_count": 67,
   "metadata": {},
   "outputs": [],
   "source": [
    "# Hence data cleaning is finished for the budgets_data table."
   ]
  },
  {
   "attachments": {},
   "cell_type": "markdown",
   "metadata": {},
   "source": [
    "## 6. Movie Data"
   ]
  },
  {
   "attachments": {},
   "cell_type": "markdown",
   "metadata": {},
   "source": [
    "**1.Checking missing values**"
   ]
  },
  {
   "cell_type": "code",
   "execution_count": 78,
   "metadata": {},
   "outputs": [
    {
     "name": "stdout",
     "output_type": "stream",
     "text": [
      "<class 'pandas.core.frame.DataFrame'>\n",
      "RangeIndex: 1936 entries, 0 to 1935\n",
      "Data columns (total 13 columns):\n",
      " #   Column                    Non-Null Count  Dtype  \n",
      "---  ------                    --------------  -----  \n",
      " 0   movie_name                1936 non-null   object \n",
      " 1   production_year           1936 non-null   int64  \n",
      " 2   movie_odid                1936 non-null   int64  \n",
      " 3   production_budget         1936 non-null   int64  \n",
      " 4   domestic_box_office       1936 non-null   int64  \n",
      " 5   international_box_office  1936 non-null   int64  \n",
      " 6   rating                    1913 non-null   object \n",
      " 7   creative_type             1923 non-null   object \n",
      " 8   source                    1915 non-null   object \n",
      " 9   production_method         1925 non-null   object \n",
      " 10  genre                     1926 non-null   object \n",
      " 11  sequel                    1934 non-null   float64\n",
      " 12  running_time              1822 non-null   float64\n",
      "dtypes: float64(2), int64(5), object(6)\n",
      "memory usage: 196.8+ KB\n"
     ]
    }
   ],
   "source": [
    "# Looking at general info of the table.\n",
    "movie_data.info()"
   ]
  },
  {
   "cell_type": "code",
   "execution_count": 79,
   "metadata": {},
   "outputs": [
    {
     "data": {
      "text/plain": [
       "movie_name                    0\n",
       "production_year               0\n",
       "movie_odid                    0\n",
       "production_budget             0\n",
       "domestic_box_office           0\n",
       "international_box_office      0\n",
       "rating                       23\n",
       "creative_type                13\n",
       "source                       21\n",
       "production_method            11\n",
       "genre                        10\n",
       "sequel                        2\n",
       "running_time                114\n",
       "dtype: int64"
      ]
     },
     "execution_count": 79,
     "metadata": {},
     "output_type": "execute_result"
    }
   ],
   "source": [
    "# Checking for missing values\n",
    "movie_data.isnull().sum()"
   ]
  },
  {
   "cell_type": "code",
   "execution_count": 80,
   "metadata": {},
   "outputs": [
    {
     "name": "stdout",
     "output_type": "stream",
     "text": [
      "The percentage of data missing in the column movie_name is 0.0\n",
      "The percentage of data missing in the column production_year is 0.0\n",
      "The percentage of data missing in the column movie_odid is 0.0\n",
      "The percentage of data missing in the column production_budget is 0.0\n",
      "The percentage of data missing in the column domestic_box_office is 0.0\n",
      "The percentage of data missing in the column international_box_office is 0.0\n",
      "The percentage of data missing in the column rating is 0.011880165289256199\n",
      "The percentage of data missing in the column creative_type is 0.006714876033057851\n",
      "The percentage of data missing in the column source is 0.01084710743801653\n",
      "The percentage of data missing in the column production_method is 0.005681818181818182\n",
      "The percentage of data missing in the column genre is 0.005165289256198347\n",
      "The percentage of data missing in the column sequel is 0.0010330578512396695\n",
      "The percentage of data missing in the column running_time is 0.058884297520661155\n"
     ]
    }
   ],
   "source": [
    "# Checking percentage of missing values for each column\n",
    "for column in movie_data.columns:\n",
    "    percentage = movie_data[column].isnull().sum() / len(movie_data[column])\n",
    "    print('The percentage of data missing in the column', column, 'is', percentage)"
   ]
  },
  {
   "cell_type": "code",
   "execution_count": 82,
   "metadata": {},
   "outputs": [
    {
     "data": {
      "text/plain": [
       "movie_name                    0\n",
       "production_year               0\n",
       "movie_odid                    0\n",
       "production_budget             0\n",
       "domestic_box_office           0\n",
       "international_box_office      0\n",
       "rating                       19\n",
       "creative_type                 0\n",
       "source                       10\n",
       "production_method             2\n",
       "genre                         1\n",
       "sequel                        2\n",
       "running_time                105\n",
       "dtype: int64"
      ]
     },
     "execution_count": 82,
     "metadata": {},
     "output_type": "execute_result"
    }
   ],
   "source": [
    "# Starting with the column creative type only 0.0067 percent of values is missing hence we can just drop them.\n",
    "# movie_data.dropna(subset=['creative_type'], inplace=True)\n",
    "movie_data.isnull().sum()"
   ]
  },
  {
   "attachments": {},
   "cell_type": "markdown",
   "metadata": {},
   "source": [
    "**We are finished with Data Cleaning hence our data has been prepared and is ready for EDA (Exploratory Data Analysis.)**"
   ]
  },
  {
   "cell_type": "code",
   "execution_count": 85,
   "metadata": {},
   "outputs": [
    {
     "data": {
      "text/plain": [
       "movie_name                    0\n",
       "production_year               0\n",
       "movie_odid                    0\n",
       "production_budget             0\n",
       "domestic_box_office           0\n",
       "international_box_office      0\n",
       "rating                       17\n",
       "creative_type                 0\n",
       "source                        8\n",
       "production_method             0\n",
       "genre                         1\n",
       "sequel                        2\n",
       "running_time                105\n",
       "dtype: int64"
      ]
     },
     "execution_count": 85,
     "metadata": {},
     "output_type": "execute_result"
    }
   ],
   "source": [
    "# Next to the production_method column we can just drop missing values\n",
    "# movie_data.dropna(subset=['production_method'], inplace=True)\n",
    "movie_data.isnull().sum()"
   ]
  },
  {
   "cell_type": "code",
   "execution_count": 86,
   "metadata": {},
   "outputs": [
    {
     "data": {
      "text/html": [
       "<div>\n",
       "<style scoped>\n",
       "    .dataframe tbody tr th:only-of-type {\n",
       "        vertical-align: middle;\n",
       "    }\n",
       "\n",
       "    .dataframe tbody tr th {\n",
       "        vertical-align: top;\n",
       "    }\n",
       "\n",
       "    .dataframe thead th {\n",
       "        text-align: right;\n",
       "    }\n",
       "</style>\n",
       "<table border=\"1\" class=\"dataframe\">\n",
       "  <thead>\n",
       "    <tr style=\"text-align: right;\">\n",
       "      <th></th>\n",
       "      <th>movie_name</th>\n",
       "      <th>production_year</th>\n",
       "      <th>movie_odid</th>\n",
       "      <th>production_budget</th>\n",
       "      <th>domestic_box_office</th>\n",
       "      <th>international_box_office</th>\n",
       "      <th>rating</th>\n",
       "      <th>creative_type</th>\n",
       "      <th>source</th>\n",
       "      <th>production_method</th>\n",
       "      <th>genre</th>\n",
       "      <th>sequel</th>\n",
       "    </tr>\n",
       "  </thead>\n",
       "  <tbody>\n",
       "    <tr>\n",
       "      <th>0</th>\n",
       "      <td>Madea's Family Reunion</td>\n",
       "      <td>2006</td>\n",
       "      <td>8220100</td>\n",
       "      <td>10000000</td>\n",
       "      <td>63257940</td>\n",
       "      <td>62581</td>\n",
       "      <td>PG-13</td>\n",
       "      <td>Contemporary Fiction</td>\n",
       "      <td>Based on Play</td>\n",
       "      <td>Live Action</td>\n",
       "      <td>Comedy</td>\n",
       "      <td>1.0</td>\n",
       "    </tr>\n",
       "    <tr>\n",
       "      <th>1</th>\n",
       "      <td>Krrish</td>\n",
       "      <td>2006</td>\n",
       "      <td>58540100</td>\n",
       "      <td>10000000</td>\n",
       "      <td>1430721</td>\n",
       "      <td>31000000</td>\n",
       "      <td>Not Rated</td>\n",
       "      <td>Science Fiction</td>\n",
       "      <td>Original Screenplay</td>\n",
       "      <td>Live Action</td>\n",
       "      <td>Action</td>\n",
       "      <td>1.0</td>\n",
       "    </tr>\n",
       "    <tr>\n",
       "      <th>2</th>\n",
       "      <td>End of the Spear</td>\n",
       "      <td>2006</td>\n",
       "      <td>34620100</td>\n",
       "      <td>10000000</td>\n",
       "      <td>11748661</td>\n",
       "      <td>175380</td>\n",
       "      <td>PG-13</td>\n",
       "      <td>Historical Fiction</td>\n",
       "      <td>Original Screenplay</td>\n",
       "      <td>Live Action</td>\n",
       "      <td>Drama</td>\n",
       "      <td>0.0</td>\n",
       "    </tr>\n",
       "    <tr>\n",
       "      <th>3</th>\n",
       "      <td>A Prairie Home Companion</td>\n",
       "      <td>2006</td>\n",
       "      <td>24910100</td>\n",
       "      <td>10000000</td>\n",
       "      <td>20342852</td>\n",
       "      <td>6373339</td>\n",
       "      <td>PG-13</td>\n",
       "      <td>Contemporary Fiction</td>\n",
       "      <td>Original Screenplay</td>\n",
       "      <td>Live Action</td>\n",
       "      <td>Comedy</td>\n",
       "      <td>0.0</td>\n",
       "    </tr>\n",
       "    <tr>\n",
       "      <th>4</th>\n",
       "      <td>Saw III</td>\n",
       "      <td>2006</td>\n",
       "      <td>5840100</td>\n",
       "      <td>10000000</td>\n",
       "      <td>80238724</td>\n",
       "      <td>83638091</td>\n",
       "      <td>R</td>\n",
       "      <td>Contemporary Fiction</td>\n",
       "      <td>Original Screenplay</td>\n",
       "      <td>Live Action</td>\n",
       "      <td>Horror</td>\n",
       "      <td>1.0</td>\n",
       "    </tr>\n",
       "    <tr>\n",
       "      <th>...</th>\n",
       "      <td>...</td>\n",
       "      <td>...</td>\n",
       "      <td>...</td>\n",
       "      <td>...</td>\n",
       "      <td>...</td>\n",
       "      <td>...</td>\n",
       "      <td>...</td>\n",
       "      <td>...</td>\n",
       "      <td>...</td>\n",
       "      <td>...</td>\n",
       "      <td>...</td>\n",
       "      <td>...</td>\n",
       "    </tr>\n",
       "    <tr>\n",
       "      <th>1931</th>\n",
       "      <td>The Nutcracker and the Four Realms</td>\n",
       "      <td>2018</td>\n",
       "      <td>298170100</td>\n",
       "      <td>132900000</td>\n",
       "      <td>54858851</td>\n",
       "      <td>115435048</td>\n",
       "      <td>PG</td>\n",
       "      <td>Fantasy</td>\n",
       "      <td>Based on Folk Tale/Legend/Fairytale</td>\n",
       "      <td>Live Action</td>\n",
       "      <td>Adventure</td>\n",
       "      <td>0.0</td>\n",
       "    </tr>\n",
       "    <tr>\n",
       "      <th>1932</th>\n",
       "      <td>Aquaman</td>\n",
       "      <td>2018</td>\n",
       "      <td>213100100</td>\n",
       "      <td>160000000</td>\n",
       "      <td>333804251</td>\n",
       "      <td>805605026</td>\n",
       "      <td>PG-13</td>\n",
       "      <td>Super Hero</td>\n",
       "      <td>Based on Comic/Graphic Novel</td>\n",
       "      <td>Live Action</td>\n",
       "      <td>Action</td>\n",
       "      <td>0.0</td>\n",
       "    </tr>\n",
       "    <tr>\n",
       "      <th>1933</th>\n",
       "      <td>Ralph Breaks The Internet</td>\n",
       "      <td>2018</td>\n",
       "      <td>263730100</td>\n",
       "      <td>175000000</td>\n",
       "      <td>200236625</td>\n",
       "      <td>319167373</td>\n",
       "      <td>PG</td>\n",
       "      <td>Kids Fiction</td>\n",
       "      <td>Original Screenplay</td>\n",
       "      <td>Digital Animation</td>\n",
       "      <td>Adventure</td>\n",
       "      <td>1.0</td>\n",
       "    </tr>\n",
       "    <tr>\n",
       "      <th>1934</th>\n",
       "      <td>Mission: Impossible—Fallout</td>\n",
       "      <td>2018</td>\n",
       "      <td>248680100</td>\n",
       "      <td>178000000</td>\n",
       "      <td>220159104</td>\n",
       "      <td>567297448</td>\n",
       "      <td>PG-13</td>\n",
       "      <td>Contemporary Fiction</td>\n",
       "      <td>Based on TV</td>\n",
       "      <td>Live Action</td>\n",
       "      <td>Action</td>\n",
       "      <td>1.0</td>\n",
       "    </tr>\n",
       "    <tr>\n",
       "      <th>1935</th>\n",
       "      <td>Fantastic Beasts: The Crimes of Grindelwald</td>\n",
       "      <td>2018</td>\n",
       "      <td>222990100</td>\n",
       "      <td>200000000</td>\n",
       "      <td>159555901</td>\n",
       "      <td>492664185</td>\n",
       "      <td>PG-13</td>\n",
       "      <td>Fantasy</td>\n",
       "      <td>Spin-Off</td>\n",
       "      <td>Live Action</td>\n",
       "      <td>Adventure</td>\n",
       "      <td>1.0</td>\n",
       "    </tr>\n",
       "  </tbody>\n",
       "</table>\n",
       "<p>1921 rows × 12 columns</p>\n",
       "</div>"
      ],
      "text/plain": [
       "                                       movie_name  production_year   \n",
       "0                          Madea's Family Reunion             2006  \\\n",
       "1                                          Krrish             2006   \n",
       "2                                End of the Spear             2006   \n",
       "3                        A Prairie Home Companion             2006   \n",
       "4                                         Saw III             2006   \n",
       "...                                           ...              ...   \n",
       "1931           The Nutcracker and the Four Realms             2018   \n",
       "1932                                      Aquaman             2018   \n",
       "1933                    Ralph Breaks The Internet             2018   \n",
       "1934                  Mission: Impossible—Fallout             2018   \n",
       "1935  Fantastic Beasts: The Crimes of Grindelwald             2018   \n",
       "\n",
       "      movie_odid  production_budget  domestic_box_office   \n",
       "0        8220100           10000000             63257940  \\\n",
       "1       58540100           10000000              1430721   \n",
       "2       34620100           10000000             11748661   \n",
       "3       24910100           10000000             20342852   \n",
       "4        5840100           10000000             80238724   \n",
       "...          ...                ...                  ...   \n",
       "1931   298170100          132900000             54858851   \n",
       "1932   213100100          160000000            333804251   \n",
       "1933   263730100          175000000            200236625   \n",
       "1934   248680100          178000000            220159104   \n",
       "1935   222990100          200000000            159555901   \n",
       "\n",
       "      international_box_office     rating         creative_type   \n",
       "0                        62581      PG-13  Contemporary Fiction  \\\n",
       "1                     31000000  Not Rated       Science Fiction   \n",
       "2                       175380      PG-13    Historical Fiction   \n",
       "3                      6373339      PG-13  Contemporary Fiction   \n",
       "4                     83638091          R  Contemporary Fiction   \n",
       "...                        ...        ...                   ...   \n",
       "1931                 115435048         PG               Fantasy   \n",
       "1932                 805605026      PG-13            Super Hero   \n",
       "1933                 319167373         PG          Kids Fiction   \n",
       "1934                 567297448      PG-13  Contemporary Fiction   \n",
       "1935                 492664185      PG-13               Fantasy   \n",
       "\n",
       "                                   source  production_method      genre   \n",
       "0                           Based on Play        Live Action     Comedy  \\\n",
       "1                     Original Screenplay        Live Action     Action   \n",
       "2                     Original Screenplay        Live Action      Drama   \n",
       "3                     Original Screenplay        Live Action     Comedy   \n",
       "4                     Original Screenplay        Live Action     Horror   \n",
       "...                                   ...                ...        ...   \n",
       "1931  Based on Folk Tale/Legend/Fairytale        Live Action  Adventure   \n",
       "1932         Based on Comic/Graphic Novel        Live Action     Action   \n",
       "1933                  Original Screenplay  Digital Animation  Adventure   \n",
       "1934                          Based on TV        Live Action     Action   \n",
       "1935                             Spin-Off        Live Action  Adventure   \n",
       "\n",
       "      sequel  \n",
       "0        1.0  \n",
       "1        1.0  \n",
       "2        0.0  \n",
       "3        0.0  \n",
       "4        1.0  \n",
       "...      ...  \n",
       "1931     0.0  \n",
       "1932     0.0  \n",
       "1933     1.0  \n",
       "1934     1.0  \n",
       "1935     1.0  \n",
       "\n",
       "[1921 rows x 12 columns]"
      ]
     },
     "execution_count": 86,
     "metadata": {},
     "output_type": "execute_result"
    }
   ],
   "source": [
    "# The column running time is not important for analysis so we can just drop the whole column.\n",
    "# movie_data.drop(['running_time'], axis=1, inplace=True)\n",
    "movie_data"
   ]
  },
  {
   "cell_type": "code",
   "execution_count": 87,
   "metadata": {},
   "outputs": [
    {
     "data": {
      "text/html": [
       "<div>\n",
       "<style scoped>\n",
       "    .dataframe tbody tr th:only-of-type {\n",
       "        vertical-align: middle;\n",
       "    }\n",
       "\n",
       "    .dataframe tbody tr th {\n",
       "        vertical-align: top;\n",
       "    }\n",
       "\n",
       "    .dataframe thead th {\n",
       "        text-align: right;\n",
       "    }\n",
       "</style>\n",
       "<table border=\"1\" class=\"dataframe\">\n",
       "  <thead>\n",
       "    <tr style=\"text-align: right;\">\n",
       "      <th></th>\n",
       "      <th>movie_name</th>\n",
       "      <th>production_year</th>\n",
       "      <th>movie_odid</th>\n",
       "      <th>production_budget</th>\n",
       "      <th>domestic_box_office</th>\n",
       "      <th>international_box_office</th>\n",
       "      <th>rating</th>\n",
       "      <th>creative_type</th>\n",
       "      <th>source</th>\n",
       "      <th>production_method</th>\n",
       "      <th>genre</th>\n",
       "      <th>sequel</th>\n",
       "    </tr>\n",
       "  </thead>\n",
       "  <tbody>\n",
       "  </tbody>\n",
       "</table>\n",
       "</div>"
      ],
      "text/plain": [
       "Empty DataFrame\n",
       "Columns: [movie_name, production_year, movie_odid, production_budget, domestic_box_office, international_box_office, rating, creative_type, source, production_method, genre, sequel]\n",
       "Index: []"
      ]
     },
     "execution_count": 87,
     "metadata": {},
     "output_type": "execute_result"
    }
   ],
   "source": [
    "# For the genre column it only has 1 missing value but we can just fill them with values from searching since it is only one.\n",
    "movie_data[movie_data['genre'].isnull()]\n",
    "\n",
    "# Filling the missing value\n",
    "movie_data.loc[1116, 'genre'] = 'comedy'\n",
    "\n",
    "# Checking to see if it worked\n",
    "movie_data[movie_data['genre'].isnull()]  # Missing value filled"
   ]
  },
  {
   "cell_type": "code",
   "execution_count": 89,
   "metadata": {},
   "outputs": [
    {
     "data": {
      "text/plain": [
       "movie_name                   0\n",
       "production_year              0\n",
       "movie_odid                   0\n",
       "production_budget            0\n",
       "domestic_box_office          0\n",
       "international_box_office     0\n",
       "rating                      17\n",
       "creative_type                0\n",
       "source                       0\n",
       "production_method            0\n",
       "genre                        0\n",
       "sequel                       2\n",
       "dtype: int64"
      ]
     },
     "execution_count": 89,
     "metadata": {},
     "output_type": "execute_result"
    }
   ],
   "source": [
    "# Filling the source column with the mode\n",
    "# movie_data['source'].fillna(movie_data['source'].mode()[0], inplace=True)\n",
    "movie_data.isnull().sum()"
   ]
  },
  {
   "cell_type": "code",
   "execution_count": 90,
   "metadata": {},
   "outputs": [
    {
     "data": {
      "text/plain": [
       "movie_name                   0\n",
       "production_year              0\n",
       "movie_odid                   0\n",
       "production_budget            0\n",
       "domestic_box_office          0\n",
       "international_box_office     0\n",
       "rating                      17\n",
       "creative_type                0\n",
       "source                       0\n",
       "production_method            0\n",
       "genre                        0\n",
       "sequel                       0\n",
       "dtype: int64"
      ]
     },
     "execution_count": 90,
     "metadata": {},
     "output_type": "execute_result"
    }
   ],
   "source": [
    "# For the sequel column lets just fill with mode\n",
    "movie_data['sequel'].fillna(movie_data['sequel'].mode()[0], inplace=True)\n",
    "movie_data.isnull().sum()"
   ]
  },
  {
   "cell_type": "code",
   "execution_count": 92,
   "metadata": {},
   "outputs": [
    {
     "data": {
      "text/plain": [
       "movie_name                  0\n",
       "production_year             0\n",
       "movie_odid                  0\n",
       "production_budget           0\n",
       "domestic_box_office         0\n",
       "international_box_office    0\n",
       "rating                      0\n",
       "creative_type               0\n",
       "source                      0\n",
       "production_method           0\n",
       "genre                       0\n",
       "sequel                      0\n",
       "dtype: int64"
      ]
     },
     "execution_count": 92,
     "metadata": {},
     "output_type": "execute_result"
    }
   ],
   "source": [
    "# Now for the ratings column\n",
    "# movie_data['rating'].fillna(movie_data['rating'].mode()[0], inplace=True)\n",
    "movie_data.isnull().sum()\n",
    "# No more missing values"
   ]
  },
  {
   "attachments": {},
   "cell_type": "markdown",
   "metadata": {},
   "source": [
    "**2. Checking for duplicates**"
   ]
  },
  {
   "cell_type": "code",
   "execution_count": 93,
   "metadata": {},
   "outputs": [
    {
     "data": {
      "text/html": [
       "<div>\n",
       "<style scoped>\n",
       "    .dataframe tbody tr th:only-of-type {\n",
       "        vertical-align: middle;\n",
       "    }\n",
       "\n",
       "    .dataframe tbody tr th {\n",
       "        vertical-align: top;\n",
       "    }\n",
       "\n",
       "    .dataframe thead th {\n",
       "        text-align: right;\n",
       "    }\n",
       "</style>\n",
       "<table border=\"1\" class=\"dataframe\">\n",
       "  <thead>\n",
       "    <tr style=\"text-align: right;\">\n",
       "      <th></th>\n",
       "      <th>movie_name</th>\n",
       "      <th>production_year</th>\n",
       "      <th>movie_odid</th>\n",
       "      <th>production_budget</th>\n",
       "      <th>domestic_box_office</th>\n",
       "      <th>international_box_office</th>\n",
       "      <th>rating</th>\n",
       "      <th>creative_type</th>\n",
       "      <th>source</th>\n",
       "      <th>production_method</th>\n",
       "      <th>genre</th>\n",
       "      <th>sequel</th>\n",
       "    </tr>\n",
       "  </thead>\n",
       "  <tbody>\n",
       "  </tbody>\n",
       "</table>\n",
       "</div>"
      ],
      "text/plain": [
       "Empty DataFrame\n",
       "Columns: [movie_name, production_year, movie_odid, production_budget, domestic_box_office, international_box_office, rating, creative_type, source, production_method, genre, sequel]\n",
       "Index: []"
      ]
     },
     "execution_count": 93,
     "metadata": {},
     "output_type": "execute_result"
    }
   ],
   "source": [
    "movie_data[movie_data.duplicated()]  # No duplicates"
   ]
  },
  {
   "attachments": {},
   "cell_type": "markdown",
   "metadata": {},
   "source": [
    "**3. Correcting wrong data types**"
   ]
  },
  {
   "cell_type": "code",
   "execution_count": 94,
   "metadata": {},
   "outputs": [
    {
     "name": "stdout",
     "output_type": "stream",
     "text": [
      "<class 'pandas.core.frame.DataFrame'>\n",
      "Index: 1921 entries, 0 to 1935\n",
      "Data columns (total 12 columns):\n",
      " #   Column                    Non-Null Count  Dtype  \n",
      "---  ------                    --------------  -----  \n",
      " 0   movie_name                1921 non-null   object \n",
      " 1   production_year           1921 non-null   int64  \n",
      " 2   movie_odid                1921 non-null   int64  \n",
      " 3   production_budget         1921 non-null   int64  \n",
      " 4   domestic_box_office       1921 non-null   int64  \n",
      " 5   international_box_office  1921 non-null   int64  \n",
      " 6   rating                    1921 non-null   object \n",
      " 7   creative_type             1921 non-null   object \n",
      " 8   source                    1921 non-null   object \n",
      " 9   production_method         1921 non-null   object \n",
      " 10  genre                     1921 non-null   object \n",
      " 11  sequel                    1921 non-null   float64\n",
      "dtypes: float64(1), int64(5), object(6)\n",
      "memory usage: 259.6+ KB\n"
     ]
    }
   ],
   "source": [
    "# Seeing data type of the columns\n",
    "movie_data.info()"
   ]
  },
  {
   "cell_type": "code",
   "execution_count": 95,
   "metadata": {},
   "outputs": [
    {
     "name": "stdout",
     "output_type": "stream",
     "text": [
      "object\n",
      "[]\n",
      "[]\n",
      "[]\n",
      "[]\n",
      "[]\n",
      "[]\n",
      "[]\n",
      "[]\n",
      "[]\n",
      "[]\n",
      "[]\n",
      "[]\n"
     ]
    }
   ],
   "source": [
    "# Seeing datatype for one column\n",
    "print(movie_data['movie_name'].dtype)\n",
    "\n",
    "# Writing a for loop to see if there are wrong datatypes in each of the columns\n",
    "# Starting with movie_name.\n",
    "wrong_name = [x for x in movie_data['movie_name'] if type(x) != str]\n",
    "print(wrong_name)\n",
    "\n",
    "# Then production\n",
    "wrong_production = [x for x in movie_data['production_year'] if type(x) != int]\n",
    "print(wrong_production)\n",
    "\n",
    "# Then movie_odid\n",
    "wrong_odid = [x for x in movie_data['movie_odid'] if type(x) != int]\n",
    "print(wrong_odid)\n",
    "\n",
    "# Then production budget\n",
    "wrong_production = [x for x in movie_data['production_budget'] if type(x) != int]\n",
    "print(wrong_production)\n",
    "\n",
    "# Then domestic box office\n",
    "wrong_domestic = [x for x in movie_data['domestic_box_office'] if type(x) != int]\n",
    "print(wrong_domestic)\n",
    "\n",
    "# Then international box office\n",
    "wrong_international = [x for x in movie_data['international_box_office'] if type(x) != int]\n",
    "print(wrong_international)\n",
    "\n",
    "# Rating\n",
    "wrong_rating = [x for x in movie_data['rating'] if type(x) != str]\n",
    "print(wrong_rating)\n",
    "\n",
    "# Creative\n",
    "wrong_creative = [x for x in movie_data['creative_type'] if type(x) != str]\n",
    "print(wrong_creative)\n",
    "\n",
    "# Source\n",
    "wrong_source = [x for x in movie_data['source'] if type(x) != str]\n",
    "print(wrong_source)\n",
    "\n",
    "# Production method\n",
    "wrong_method = [x for x in movie_data['production_method'] if type(x) != str]\n",
    "print(wrong_method)\n",
    "\n",
    "# Wrong genre\n",
    "wrong_genre = [x for x in movie_data['genre'] if type(x) != str]\n",
    "print(wrong_genre)\n",
    "\n",
    "# Wrong sequel\n",
    "wrong_sequel = [x for x in movie_data['sequel'] if type(x) != float]\n",
    "print(wrong_sequel)\n",
    "\n",
    "# No wrong data types"
   ]
  },
  {
   "cell_type": "code",
   "execution_count": 96,
   "metadata": {},
   "outputs": [],
   "source": [
    "# Since values vary from one to another in how much money a movie earns there are no outliers"
   ]
  },
  {
   "attachments": {},
   "cell_type": "markdown",
   "metadata": {},
   "source": [
    "We have completed data preparation through data cleaning"
   ]
  },
  {
   "attachments": {},
   "cell_type": "markdown",
   "metadata": {},
   "source": [
    "## EXPLORATORY DATA ANALYSIS"
   ]
  },
  {
   "attachments": {},
   "cell_type": "markdown",
   "metadata": {},
   "source": [
    "This is a crucial part of the **CRISP DM (Cross Industry Process for Data Mining)**, the process in which Data Scientists use to find insights from data and possibly even model it if required. **Exploratory Data Analysis** is about going through data which has already been pre-processed through Data Cleaning so as to answer questions about the data. Usually during **EDA** there is a goal in mind and questions that need to be answered. These are questions that stem from the business understanding which includes the **problem statement** and the **business success** criteria. Overall **Exploratory Data Analysis** is an important process in the Data Science cycle used by Data Scientists everywhere in the world."
   ]
  },
  {
   "attachments": {},
   "cell_type": "markdown",
   "metadata": {},
   "source": [
    "The purpose of this project or rather the problem statement was to determine the type of films which do best at the box office. After thorough analysis of the data at hand to achieve the problem statement, one is to transform these insights into 3 recommendations with visualisations to the head of Microsoft's new movie studio. He shall then use the recommendations to know which type of movies to start making."
   ]
  },
  {
   "attachments": {},
   "cell_type": "markdown",
   "metadata": {},
   "source": [
    "In order to do this we shall begin with the first question:\n",
    "- What is the relationship between the type of films and the domestic and or foreign gross it receives"
   ]
  },
  {
   "cell_type": "code",
   "execution_count": 97,
   "metadata": {},
   "outputs": [
    {
     "data": {
      "text/html": [
       "<div>\n",
       "<style scoped>\n",
       "    .dataframe tbody tr th:only-of-type {\n",
       "        vertical-align: middle;\n",
       "    }\n",
       "\n",
       "    .dataframe tbody tr th {\n",
       "        vertical-align: top;\n",
       "    }\n",
       "\n",
       "    .dataframe thead th {\n",
       "        text-align: right;\n",
       "    }\n",
       "</style>\n",
       "<table border=\"1\" class=\"dataframe\">\n",
       "  <thead>\n",
       "    <tr style=\"text-align: right;\">\n",
       "      <th></th>\n",
       "      <th>movie_name</th>\n",
       "      <th>production_year</th>\n",
       "      <th>movie_odid</th>\n",
       "      <th>production_budget</th>\n",
       "      <th>domestic_box_office</th>\n",
       "      <th>international_box_office</th>\n",
       "      <th>rating</th>\n",
       "      <th>creative_type</th>\n",
       "      <th>source</th>\n",
       "      <th>production_method</th>\n",
       "      <th>genre</th>\n",
       "      <th>sequel</th>\n",
       "    </tr>\n",
       "  </thead>\n",
       "  <tbody>\n",
       "    <tr>\n",
       "      <th>0</th>\n",
       "      <td>Madea's Family Reunion</td>\n",
       "      <td>2006</td>\n",
       "      <td>8220100</td>\n",
       "      <td>10000000</td>\n",
       "      <td>63257940</td>\n",
       "      <td>62581</td>\n",
       "      <td>PG-13</td>\n",
       "      <td>Contemporary Fiction</td>\n",
       "      <td>Based on Play</td>\n",
       "      <td>Live Action</td>\n",
       "      <td>Comedy</td>\n",
       "      <td>1.0</td>\n",
       "    </tr>\n",
       "    <tr>\n",
       "      <th>1</th>\n",
       "      <td>Krrish</td>\n",
       "      <td>2006</td>\n",
       "      <td>58540100</td>\n",
       "      <td>10000000</td>\n",
       "      <td>1430721</td>\n",
       "      <td>31000000</td>\n",
       "      <td>Not Rated</td>\n",
       "      <td>Science Fiction</td>\n",
       "      <td>Original Screenplay</td>\n",
       "      <td>Live Action</td>\n",
       "      <td>Action</td>\n",
       "      <td>1.0</td>\n",
       "    </tr>\n",
       "    <tr>\n",
       "      <th>2</th>\n",
       "      <td>End of the Spear</td>\n",
       "      <td>2006</td>\n",
       "      <td>34620100</td>\n",
       "      <td>10000000</td>\n",
       "      <td>11748661</td>\n",
       "      <td>175380</td>\n",
       "      <td>PG-13</td>\n",
       "      <td>Historical Fiction</td>\n",
       "      <td>Original Screenplay</td>\n",
       "      <td>Live Action</td>\n",
       "      <td>Drama</td>\n",
       "      <td>0.0</td>\n",
       "    </tr>\n",
       "    <tr>\n",
       "      <th>3</th>\n",
       "      <td>A Prairie Home Companion</td>\n",
       "      <td>2006</td>\n",
       "      <td>24910100</td>\n",
       "      <td>10000000</td>\n",
       "      <td>20342852</td>\n",
       "      <td>6373339</td>\n",
       "      <td>PG-13</td>\n",
       "      <td>Contemporary Fiction</td>\n",
       "      <td>Original Screenplay</td>\n",
       "      <td>Live Action</td>\n",
       "      <td>Comedy</td>\n",
       "      <td>0.0</td>\n",
       "    </tr>\n",
       "    <tr>\n",
       "      <th>4</th>\n",
       "      <td>Saw III</td>\n",
       "      <td>2006</td>\n",
       "      <td>5840100</td>\n",
       "      <td>10000000</td>\n",
       "      <td>80238724</td>\n",
       "      <td>83638091</td>\n",
       "      <td>R</td>\n",
       "      <td>Contemporary Fiction</td>\n",
       "      <td>Original Screenplay</td>\n",
       "      <td>Live Action</td>\n",
       "      <td>Horror</td>\n",
       "      <td>1.0</td>\n",
       "    </tr>\n",
       "    <tr>\n",
       "      <th>...</th>\n",
       "      <td>...</td>\n",
       "      <td>...</td>\n",
       "      <td>...</td>\n",
       "      <td>...</td>\n",
       "      <td>...</td>\n",
       "      <td>...</td>\n",
       "      <td>...</td>\n",
       "      <td>...</td>\n",
       "      <td>...</td>\n",
       "      <td>...</td>\n",
       "      <td>...</td>\n",
       "      <td>...</td>\n",
       "    </tr>\n",
       "    <tr>\n",
       "      <th>1931</th>\n",
       "      <td>The Nutcracker and the Four Realms</td>\n",
       "      <td>2018</td>\n",
       "      <td>298170100</td>\n",
       "      <td>132900000</td>\n",
       "      <td>54858851</td>\n",
       "      <td>115435048</td>\n",
       "      <td>PG</td>\n",
       "      <td>Fantasy</td>\n",
       "      <td>Based on Folk Tale/Legend/Fairytale</td>\n",
       "      <td>Live Action</td>\n",
       "      <td>Adventure</td>\n",
       "      <td>0.0</td>\n",
       "    </tr>\n",
       "    <tr>\n",
       "      <th>1932</th>\n",
       "      <td>Aquaman</td>\n",
       "      <td>2018</td>\n",
       "      <td>213100100</td>\n",
       "      <td>160000000</td>\n",
       "      <td>333804251</td>\n",
       "      <td>805605026</td>\n",
       "      <td>PG-13</td>\n",
       "      <td>Super Hero</td>\n",
       "      <td>Based on Comic/Graphic Novel</td>\n",
       "      <td>Live Action</td>\n",
       "      <td>Action</td>\n",
       "      <td>0.0</td>\n",
       "    </tr>\n",
       "    <tr>\n",
       "      <th>1933</th>\n",
       "      <td>Ralph Breaks The Internet</td>\n",
       "      <td>2018</td>\n",
       "      <td>263730100</td>\n",
       "      <td>175000000</td>\n",
       "      <td>200236625</td>\n",
       "      <td>319167373</td>\n",
       "      <td>PG</td>\n",
       "      <td>Kids Fiction</td>\n",
       "      <td>Original Screenplay</td>\n",
       "      <td>Digital Animation</td>\n",
       "      <td>Adventure</td>\n",
       "      <td>1.0</td>\n",
       "    </tr>\n",
       "    <tr>\n",
       "      <th>1934</th>\n",
       "      <td>Mission: Impossible—Fallout</td>\n",
       "      <td>2018</td>\n",
       "      <td>248680100</td>\n",
       "      <td>178000000</td>\n",
       "      <td>220159104</td>\n",
       "      <td>567297448</td>\n",
       "      <td>PG-13</td>\n",
       "      <td>Contemporary Fiction</td>\n",
       "      <td>Based on TV</td>\n",
       "      <td>Live Action</td>\n",
       "      <td>Action</td>\n",
       "      <td>1.0</td>\n",
       "    </tr>\n",
       "    <tr>\n",
       "      <th>1935</th>\n",
       "      <td>Fantastic Beasts: The Crimes of Grindelwald</td>\n",
       "      <td>2018</td>\n",
       "      <td>222990100</td>\n",
       "      <td>200000000</td>\n",
       "      <td>159555901</td>\n",
       "      <td>492664185</td>\n",
       "      <td>PG-13</td>\n",
       "      <td>Fantasy</td>\n",
       "      <td>Spin-Off</td>\n",
       "      <td>Live Action</td>\n",
       "      <td>Adventure</td>\n",
       "      <td>1.0</td>\n",
       "    </tr>\n",
       "  </tbody>\n",
       "</table>\n",
       "<p>1921 rows × 12 columns</p>\n",
       "</div>"
      ],
      "text/plain": [
       "                                       movie_name  production_year   \n",
       "0                          Madea's Family Reunion             2006  \\\n",
       "1                                          Krrish             2006   \n",
       "2                                End of the Spear             2006   \n",
       "3                        A Prairie Home Companion             2006   \n",
       "4                                         Saw III             2006   \n",
       "...                                           ...              ...   \n",
       "1931           The Nutcracker and the Four Realms             2018   \n",
       "1932                                      Aquaman             2018   \n",
       "1933                    Ralph Breaks The Internet             2018   \n",
       "1934                  Mission: Impossible—Fallout             2018   \n",
       "1935  Fantastic Beasts: The Crimes of Grindelwald             2018   \n",
       "\n",
       "      movie_odid  production_budget  domestic_box_office   \n",
       "0        8220100           10000000             63257940  \\\n",
       "1       58540100           10000000              1430721   \n",
       "2       34620100           10000000             11748661   \n",
       "3       24910100           10000000             20342852   \n",
       "4        5840100           10000000             80238724   \n",
       "...          ...                ...                  ...   \n",
       "1931   298170100          132900000             54858851   \n",
       "1932   213100100          160000000            333804251   \n",
       "1933   263730100          175000000            200236625   \n",
       "1934   248680100          178000000            220159104   \n",
       "1935   222990100          200000000            159555901   \n",
       "\n",
       "      international_box_office     rating         creative_type   \n",
       "0                        62581      PG-13  Contemporary Fiction  \\\n",
       "1                     31000000  Not Rated       Science Fiction   \n",
       "2                       175380      PG-13    Historical Fiction   \n",
       "3                      6373339      PG-13  Contemporary Fiction   \n",
       "4                     83638091          R  Contemporary Fiction   \n",
       "...                        ...        ...                   ...   \n",
       "1931                 115435048         PG               Fantasy   \n",
       "1932                 805605026      PG-13            Super Hero   \n",
       "1933                 319167373         PG          Kids Fiction   \n",
       "1934                 567297448      PG-13  Contemporary Fiction   \n",
       "1935                 492664185      PG-13               Fantasy   \n",
       "\n",
       "                                   source  production_method      genre   \n",
       "0                           Based on Play        Live Action     Comedy  \\\n",
       "1                     Original Screenplay        Live Action     Action   \n",
       "2                     Original Screenplay        Live Action      Drama   \n",
       "3                     Original Screenplay        Live Action     Comedy   \n",
       "4                     Original Screenplay        Live Action     Horror   \n",
       "...                                   ...                ...        ...   \n",
       "1931  Based on Folk Tale/Legend/Fairytale        Live Action  Adventure   \n",
       "1932         Based on Comic/Graphic Novel        Live Action     Action   \n",
       "1933                  Original Screenplay  Digital Animation  Adventure   \n",
       "1934                          Based on TV        Live Action     Action   \n",
       "1935                             Spin-Off        Live Action  Adventure   \n",
       "\n",
       "      sequel  \n",
       "0        1.0  \n",
       "1        1.0  \n",
       "2        0.0  \n",
       "3        0.0  \n",
       "4        1.0  \n",
       "...      ...  \n",
       "1931     0.0  \n",
       "1932     0.0  \n",
       "1933     1.0  \n",
       "1934     1.0  \n",
       "1935     1.0  \n",
       "\n",
       "[1921 rows x 12 columns]"
      ]
     },
     "execution_count": 97,
     "metadata": {},
     "output_type": "execute_result"
    }
   ],
   "source": [
    "# We use the movie_data after cleaning since it has both the genres and the earnings in a local and international level.\n",
    "movie_data"
   ]
  },
  {
   "cell_type": "code",
   "execution_count": 98,
   "metadata": {},
   "outputs": [
    {
     "data": {
      "text/plain": [
       "genre\n",
       "Musical                2.011386e+08\n",
       "Adventure              1.930141e+08\n",
       "Action                 1.843140e+08\n",
       "Documentary            6.770103e+07\n",
       "Thriller/Suspense      6.183242e+07\n",
       "Western                5.660842e+07\n",
       "Romantic Comedy        5.492061e+07\n",
       "Horror                 5.138038e+07\n",
       "Black Comedy           4.467123e+07\n",
       "Drama                  4.140966e+07\n",
       "Comedy                 3.815209e+07\n",
       "comedy                 2.524579e+07\n",
       "Concert/Performance    1.533291e+07\n",
       "Name: international_box_office, dtype: float64"
      ]
     },
     "execution_count": 98,
     "metadata": {},
     "output_type": "execute_result"
    }
   ],
   "source": [
    "# We use the movie_data table since it has the genres and the earnings in a domestic and international box office level\n",
    "# We first of all use groupby to group the average international box office by genre and sorting the values from big to small.\n",
    "genre_avg_foreign_gross = movie_data.groupby('genre')['international_box_office'].mean().sort_values(ascending=False)\n",
    "genre_avg_foreign_gross\n",
    "\n",
    "# We want to find the top 10 genres with the highest foreign gross and possibly plot a bar graph for this.\n",
    "# First we begin by creating a dictionary that maps the sorted data's key to its value.\n",
    "dictionary_of_foreign_gross = dict(genre_avg_foreign_gross)\n",
    "\n",
    "# We then isolate the keys of the dictionary to find the top 10 genres since its already sorted from highest to lowest.\n",
    "foreign_gross_keys = list(dictionary_of_foreign_gross.keys())\n",
    "top_10_genres = foreign_gross_keys[:10]\n",
    "\n",
    "# Then we isolate the values of the dictionary to find the top 10 values since its already sorted from highest to lowest.\n",
    "foreign_gross_values = list(dictionary_of_foreign_gross.values())\n",
    "top_10_values = foreign_gross_values[:10]\n",
    "\n",
    "genre_avg_foreign_gross"
   ]
  },
  {
   "cell_type": "code",
   "execution_count": 99,
   "metadata": {},
   "outputs": [
    {
     "data": {
      "image/png": "[encoded data removed]",
      "text/plain": [
       "<Figure size 2000x2000 with 1 Axes>"
      ]
     },
     "metadata": {},
     "output_type": "display_data"
    }
   ],
   "source": [
    "# We now want to represent this visually to show the type of movies which do well internationally.\n",
    "plt.figure(figsize=(20, 20))\n",
    "plt.bar(top_10_genres, top_10_values)\n",
    "plt.xlabel('Genre')\n",
    "plt.ylabel('Average Worldwide Gross')\n",
    "plt.ticklabel_format(style='plain', axis='y')  # This is for removing the scale in the y-axis\n",
    "plt.title('Average Foreign Gross by Genre')\n",
    "plt.xticks(rotation=45);"
   ]
  },
  {
   "attachments": {},
   "cell_type": "markdown",
   "metadata": {},
   "source": [
    "    **The graph above answers the question on what type of films does well on an international level. It shows the top 10 type of films that do best at the box office on an international level.**"
   ]
  },
  {
   "cell_type": "code",
   "execution_count": 100,
   "metadata": {},
   "outputs": [
    {
     "data": {
      "text/plain": [
       "genre\n",
       "Musical                1.235329e+08\n",
       "Adventure              1.126963e+08\n",
       "Action                 9.744986e+07\n",
       "Comedy                 5.064755e+07\n",
       "Western                4.927270e+07\n",
       "Romantic Comedy        4.589736e+07\n",
       "Thriller/Suspense      4.544690e+07\n",
       "Horror                 4.535191e+07\n",
       "Black Comedy           3.651481e+07\n",
       "Drama                  3.576640e+07\n",
       "Concert/Performance    2.785387e+07\n",
       "Documentary            2.757766e+07\n",
       "comedy                 6.161100e+04\n",
       "Name: domestic_box_office, dtype: float64"
      ]
     },
     "execution_count": 100,
     "metadata": {},
     "output_type": "execute_result"
    }
   ],
   "source": [
    "# Now doing the same for the domestic gross to see what type of films perform best locally.\n",
    "genre_avg_domestic_gross = movie_data.groupby('genre')['domestic_box_office'].mean().sort_values(ascending=False)\n",
    "genre_avg_domestic_gross\n",
    "\n",
    "# We want to find the top 10 genres with the highest foreign gross and possibly plot a bar graph for this.\n",
    "# First we begin by creating a dictionary that maps key to value.\n",
    "dictionary_of_domestic_gross = dict(genre_avg_domestic_gross)\n",
    "\n",
    "# We then isolate the keys of the dictionary to find the top 10 genres since its already sorted from highest to lowest.\n",
    "domestic_gross_keys = list(dictionary_of_domestic_gross.keys())\n",
    "top_10_genres = domestic_gross_keys[:10]\n",
    "\n",
    "# Then we isolate the values of the dictionary to find the top 10 values since its already sorted from highest to lowest.\n",
    "domestic_gross_values = list(dictionary_of_foreign_gross.values())\n",
    "top_10_values = domestic_gross_values[:10]\n",
    "\n",
    "genre_avg_domestic_gross"
   ]
  },
  {
   "cell_type": "code",
   "execution_count": 101,
   "metadata": {},
   "outputs": [
    {
     "data": {
      "image/png": "[encoded data removed]",
      "text/plain": [
       "<Figure size 2000x2000 with 1 Axes>"
      ]
     },
     "metadata": {},
     "output_type": "display_data"
    }
   ],
   "source": [
    "# We now want to represent this visually to show the type of movies which do well locally.\n",
    "plt.figure(figsize=(20, 20))\n",
    "plt.bar(top_10_genres, top_10_values)\n",
    "plt.xlabel('Genre')\n",
    "plt.ylabel('Average Domestic Gross')\n",
    "plt.ticklabel_format(style='plain', axis='y')  # This is for removing the scale in the y-axis.\n",
    "plt.title('Average Domestic Gross by Genre')\n",
    "plt.xticks(rotation=45);"
   ]
  },
  {
   "attachments": {},
   "cell_type": "markdown",
   "metadata": {},
   "source": [
    "    **The graph above answers the question on what type of films does well on a domestic level. It shows the top 10 type of films that do best at the box office on a domestic level.**"
   ]
  },
  {
   "attachments": {},
   "cell_type": "markdown",
   "metadata": {},
   "source": [
    "### It is important to note that both locally and internationally musicals earn the most money followed by adventure and then action films.\n",
    "\n",
    "### With this analysis we have officially answered our first question on what type of films do best at the box office."
   ]
  },
  {
   "attachments": {},
   "cell_type": "markdown",
   "metadata": {},
   "source": [
    "Now we ask our next question:\n",
    "- What is the average rating of each type of film."
   ]
  },
  {
   "cell_type": "code",
   "execution_count": 102,
   "metadata": {},
   "outputs": [
    {
     "data": {
      "text/html": [
       "<div>\n",
       "<style scoped>\n",
       "    .dataframe tbody tr th:only-of-type {\n",
       "        vertical-align: middle;\n",
       "    }\n",
       "\n",
       "    .dataframe tbody tr th {\n",
       "        vertical-align: top;\n",
       "    }\n",
       "\n",
       "    .dataframe thead th {\n",
       "        text-align: right;\n",
       "    }\n",
       "</style>\n",
       "<table border=\"1\" class=\"dataframe\">\n",
       "  <thead>\n",
       "    <tr style=\"text-align: right;\">\n",
       "      <th></th>\n",
       "      <th>movie_name</th>\n",
       "      <th>production_year</th>\n",
       "      <th>movie_odid</th>\n",
       "      <th>production_budget</th>\n",
       "      <th>domestic_box_office</th>\n",
       "      <th>international_box_office</th>\n",
       "      <th>rating</th>\n",
       "      <th>creative_type</th>\n",
       "      <th>source</th>\n",
       "      <th>production_method</th>\n",
       "      <th>genre</th>\n",
       "      <th>sequel</th>\n",
       "    </tr>\n",
       "  </thead>\n",
       "  <tbody>\n",
       "    <tr>\n",
       "      <th>0</th>\n",
       "      <td>Madea's Family Reunion</td>\n",
       "      <td>2006</td>\n",
       "      <td>8220100</td>\n",
       "      <td>10000000</td>\n",
       "      <td>63257940</td>\n",
       "      <td>62581</td>\n",
       "      <td>PG-13</td>\n",
       "      <td>Contemporary Fiction</td>\n",
       "      <td>Based on Play</td>\n",
       "      <td>Live Action</td>\n",
       "      <td>Comedy</td>\n",
       "      <td>1.0</td>\n",
       "    </tr>\n",
       "    <tr>\n",
       "      <th>1</th>\n",
       "      <td>Krrish</td>\n",
       "      <td>2006</td>\n",
       "      <td>58540100</td>\n",
       "      <td>10000000</td>\n",
       "      <td>1430721</td>\n",
       "      <td>31000000</td>\n",
       "      <td>Not Rated</td>\n",
       "      <td>Science Fiction</td>\n",
       "      <td>Original Screenplay</td>\n",
       "      <td>Live Action</td>\n",
       "      <td>Action</td>\n",
       "      <td>1.0</td>\n",
       "    </tr>\n",
       "    <tr>\n",
       "      <th>2</th>\n",
       "      <td>End of the Spear</td>\n",
       "      <td>2006</td>\n",
       "      <td>34620100</td>\n",
       "      <td>10000000</td>\n",
       "      <td>11748661</td>\n",
       "      <td>175380</td>\n",
       "      <td>PG-13</td>\n",
       "      <td>Historical Fiction</td>\n",
       "      <td>Original Screenplay</td>\n",
       "      <td>Live Action</td>\n",
       "      <td>Drama</td>\n",
       "      <td>0.0</td>\n",
       "    </tr>\n",
       "    <tr>\n",
       "      <th>3</th>\n",
       "      <td>A Prairie Home Companion</td>\n",
       "      <td>2006</td>\n",
       "      <td>24910100</td>\n",
       "      <td>10000000</td>\n",
       "      <td>20342852</td>\n",
       "      <td>6373339</td>\n",
       "      <td>PG-13</td>\n",
       "      <td>Contemporary Fiction</td>\n",
       "      <td>Original Screenplay</td>\n",
       "      <td>Live Action</td>\n",
       "      <td>Comedy</td>\n",
       "      <td>0.0</td>\n",
       "    </tr>\n",
       "    <tr>\n",
       "      <th>4</th>\n",
       "      <td>Saw III</td>\n",
       "      <td>2006</td>\n",
       "      <td>5840100</td>\n",
       "      <td>10000000</td>\n",
       "      <td>80238724</td>\n",
       "      <td>83638091</td>\n",
       "      <td>R</td>\n",
       "      <td>Contemporary Fiction</td>\n",
       "      <td>Original Screenplay</td>\n",
       "      <td>Live Action</td>\n",
       "      <td>Horror</td>\n",
       "      <td>1.0</td>\n",
       "    </tr>\n",
       "    <tr>\n",
       "      <th>...</th>\n",
       "      <td>...</td>\n",
       "      <td>...</td>\n",
       "      <td>...</td>\n",
       "      <td>...</td>\n",
       "      <td>...</td>\n",
       "      <td>...</td>\n",
       "      <td>...</td>\n",
       "      <td>...</td>\n",
       "      <td>...</td>\n",
       "      <td>...</td>\n",
       "      <td>...</td>\n",
       "      <td>...</td>\n",
       "    </tr>\n",
       "    <tr>\n",
       "      <th>1931</th>\n",
       "      <td>The Nutcracker and the Four Realms</td>\n",
       "      <td>2018</td>\n",
       "      <td>298170100</td>\n",
       "      <td>132900000</td>\n",
       "      <td>54858851</td>\n",
       "      <td>115435048</td>\n",
       "      <td>PG</td>\n",
       "      <td>Fantasy</td>\n",
       "      <td>Based on Folk Tale/Legend/Fairytale</td>\n",
       "      <td>Live Action</td>\n",
       "      <td>Adventure</td>\n",
       "      <td>0.0</td>\n",
       "    </tr>\n",
       "    <tr>\n",
       "      <th>1932</th>\n",
       "      <td>Aquaman</td>\n",
       "      <td>2018</td>\n",
       "      <td>213100100</td>\n",
       "      <td>160000000</td>\n",
       "      <td>333804251</td>\n",
       "      <td>805605026</td>\n",
       "      <td>PG-13</td>\n",
       "      <td>Super Hero</td>\n",
       "      <td>Based on Comic/Graphic Novel</td>\n",
       "      <td>Live Action</td>\n",
       "      <td>Action</td>\n",
       "      <td>0.0</td>\n",
       "    </tr>\n",
       "    <tr>\n",
       "      <th>1933</th>\n",
       "      <td>Ralph Breaks The Internet</td>\n",
       "      <td>2018</td>\n",
       "      <td>263730100</td>\n",
       "      <td>175000000</td>\n",
       "      <td>200236625</td>\n",
       "      <td>319167373</td>\n",
       "      <td>PG</td>\n",
       "      <td>Kids Fiction</td>\n",
       "      <td>Original Screenplay</td>\n",
       "      <td>Digital Animation</td>\n",
       "      <td>Adventure</td>\n",
       "      <td>1.0</td>\n",
       "    </tr>\n",
       "    <tr>\n",
       "      <th>1934</th>\n",
       "      <td>Mission: Impossible—Fallout</td>\n",
       "      <td>2018</td>\n",
       "      <td>248680100</td>\n",
       "      <td>178000000</td>\n",
       "      <td>220159104</td>\n",
       "      <td>567297448</td>\n",
       "      <td>PG-13</td>\n",
       "      <td>Contemporary Fiction</td>\n",
       "      <td>Based on TV</td>\n",
       "      <td>Live Action</td>\n",
       "      <td>Action</td>\n",
       "      <td>1.0</td>\n",
       "    </tr>\n",
       "    <tr>\n",
       "      <th>1935</th>\n",
       "      <td>Fantastic Beasts: The Crimes of Grindelwald</td>\n",
       "      <td>2018</td>\n",
       "      <td>222990100</td>\n",
       "      <td>200000000</td>\n",
       "      <td>159555901</td>\n",
       "      <td>492664185</td>\n",
       "      <td>PG-13</td>\n",
       "      <td>Fantasy</td>\n",
       "      <td>Spin-Off</td>\n",
       "      <td>Live Action</td>\n",
       "      <td>Adventure</td>\n",
       "      <td>1.0</td>\n",
       "    </tr>\n",
       "  </tbody>\n",
       "</table>\n",
       "<p>1921 rows × 12 columns</p>\n",
       "</div>"
      ],
      "text/plain": [
       "                                       movie_name  production_year   \n",
       "0                          Madea's Family Reunion             2006  \\\n",
       "1                                          Krrish             2006   \n",
       "2                                End of the Spear             2006   \n",
       "3                        A Prairie Home Companion             2006   \n",
       "4                                         Saw III             2006   \n",
       "...                                           ...              ...   \n",
       "1931           The Nutcracker and the Four Realms             2018   \n",
       "1932                                      Aquaman             2018   \n",
       "1933                    Ralph Breaks The Internet             2018   \n",
       "1934                  Mission: Impossible—Fallout             2018   \n",
       "1935  Fantastic Beasts: The Crimes of Grindelwald             2018   \n",
       "\n",
       "      movie_odid  production_budget  domestic_box_office   \n",
       "0        8220100           10000000             63257940  \\\n",
       "1       58540100           10000000              1430721   \n",
       "2       34620100           10000000             11748661   \n",
       "3       24910100           10000000             20342852   \n",
       "4        5840100           10000000             80238724   \n",
       "...          ...                ...                  ...   \n",
       "1931   298170100          132900000             54858851   \n",
       "1932   213100100          160000000            333804251   \n",
       "1933   263730100          175000000            200236625   \n",
       "1934   248680100          178000000            220159104   \n",
       "1935   222990100          200000000            159555901   \n",
       "\n",
       "      international_box_office     rating         creative_type   \n",
       "0                        62581      PG-13  Contemporary Fiction  \\\n",
       "1                     31000000  Not Rated       Science Fiction   \n",
       "2                       175380      PG-13    Historical Fiction   \n",
       "3                      6373339      PG-13  Contemporary Fiction   \n",
       "4                     83638091          R  Contemporary Fiction   \n",
       "...                        ...        ...                   ...   \n",
       "1931                 115435048         PG               Fantasy   \n",
       "1932                 805605026      PG-13            Super Hero   \n",
       "1933                 319167373         PG          Kids Fiction   \n",
       "1934                 567297448      PG-13  Contemporary Fiction   \n",
       "1935                 492664185      PG-13               Fantasy   \n",
       "\n",
       "                                   source  production_method      genre   \n",
       "0                           Based on Play        Live Action     Comedy  \\\n",
       "1                     Original Screenplay        Live Action     Action   \n",
       "2                     Original Screenplay        Live Action      Drama   \n",
       "3                     Original Screenplay        Live Action     Comedy   \n",
       "4                     Original Screenplay        Live Action     Horror   \n",
       "...                                   ...                ...        ...   \n",
       "1931  Based on Folk Tale/Legend/Fairytale        Live Action  Adventure   \n",
       "1932         Based on Comic/Graphic Novel        Live Action     Action   \n",
       "1933                  Original Screenplay  Digital Animation  Adventure   \n",
       "1934                          Based on TV        Live Action     Action   \n",
       "1935                             Spin-Off        Live Action  Adventure   \n",
       "\n",
       "      sequel  \n",
       "0        1.0  \n",
       "1        1.0  \n",
       "2        0.0  \n",
       "3        0.0  \n",
       "4        1.0  \n",
       "...      ...  \n",
       "1931     0.0  \n",
       "1932     0.0  \n",
       "1933     1.0  \n",
       "1934     1.0  \n",
       "1935     1.0  \n",
       "\n",
       "[1921 rows x 12 columns]"
      ]
     },
     "execution_count": 102,
     "metadata": {},
     "output_type": "execute_result"
    }
   ],
   "source": [
    "# For this we shall use the movie_data column\n",
    "# First we see what the data looks like\n",
    "movie_data"
   ]
  },
  {
   "cell_type": "code",
   "execution_count": 103,
   "metadata": {},
   "outputs": [
    {
     "data": {
      "text/html": [
       "<div>\n",
       "<style scoped>\n",
       "    .dataframe tbody tr th:only-of-type {\n",
       "        vertical-align: middle;\n",
       "    }\n",
       "\n",
       "    .dataframe tbody tr th {\n",
       "        vertical-align: top;\n",
       "    }\n",
       "\n",
       "    .dataframe thead th {\n",
       "        text-align: right;\n",
       "    }\n",
       "</style>\n",
       "<table border=\"1\" class=\"dataframe\">\n",
       "  <thead>\n",
       "    <tr style=\"text-align: right;\">\n",
       "      <th></th>\n",
       "      <th>tconst</th>\n",
       "      <th>averagerating</th>\n",
       "      <th>numvotes</th>\n",
       "    </tr>\n",
       "  </thead>\n",
       "  <tbody>\n",
       "    <tr>\n",
       "      <th>0</th>\n",
       "      <td>tt10356526</td>\n",
       "      <td>8.3</td>\n",
       "      <td>31</td>\n",
       "    </tr>\n",
       "    <tr>\n",
       "      <th>1</th>\n",
       "      <td>tt10384606</td>\n",
       "      <td>8.9</td>\n",
       "      <td>559</td>\n",
       "    </tr>\n",
       "    <tr>\n",
       "      <th>2</th>\n",
       "      <td>tt1042974</td>\n",
       "      <td>6.4</td>\n",
       "      <td>20</td>\n",
       "    </tr>\n",
       "    <tr>\n",
       "      <th>3</th>\n",
       "      <td>tt1043726</td>\n",
       "      <td>4.2</td>\n",
       "      <td>50352</td>\n",
       "    </tr>\n",
       "    <tr>\n",
       "      <th>4</th>\n",
       "      <td>tt1060240</td>\n",
       "      <td>6.5</td>\n",
       "      <td>21</td>\n",
       "    </tr>\n",
       "    <tr>\n",
       "      <th>...</th>\n",
       "      <td>...</td>\n",
       "      <td>...</td>\n",
       "      <td>...</td>\n",
       "    </tr>\n",
       "    <tr>\n",
       "      <th>73851</th>\n",
       "      <td>tt9805820</td>\n",
       "      <td>8.1</td>\n",
       "      <td>25</td>\n",
       "    </tr>\n",
       "    <tr>\n",
       "      <th>73852</th>\n",
       "      <td>tt9844256</td>\n",
       "      <td>7.5</td>\n",
       "      <td>24</td>\n",
       "    </tr>\n",
       "    <tr>\n",
       "      <th>73853</th>\n",
       "      <td>tt9851050</td>\n",
       "      <td>4.7</td>\n",
       "      <td>14</td>\n",
       "    </tr>\n",
       "    <tr>\n",
       "      <th>73854</th>\n",
       "      <td>tt9886934</td>\n",
       "      <td>7.0</td>\n",
       "      <td>5</td>\n",
       "    </tr>\n",
       "    <tr>\n",
       "      <th>73855</th>\n",
       "      <td>tt9894098</td>\n",
       "      <td>6.3</td>\n",
       "      <td>128</td>\n",
       "    </tr>\n",
       "  </tbody>\n",
       "</table>\n",
       "<p>73856 rows × 3 columns</p>\n",
       "</div>"
      ],
      "text/plain": [
       "           tconst  averagerating  numvotes\n",
       "0      tt10356526            8.3        31\n",
       "1      tt10384606            8.9       559\n",
       "2       tt1042974            6.4        20\n",
       "3       tt1043726            4.2     50352\n",
       "4       tt1060240            6.5        21\n",
       "...           ...            ...       ...\n",
       "73851   tt9805820            8.1        25\n",
       "73852   tt9844256            7.5        24\n",
       "73853   tt9851050            4.7        14\n",
       "73854   tt9886934            7.0         5\n",
       "73855   tt9894098            6.3       128\n",
       "\n",
       "[73856 rows x 3 columns]"
      ]
     },
     "execution_count": 103,
     "metadata": {},
     "output_type": "execute_result"
    }
   ],
   "source": [
    "# The ratings_data column has an averagerating with the no.of votes so we can use that combined with our movie_data to find the averagerating per genre\n",
    "# The ratings_data table is shown below.\n",
    "ratings_data"
   ]
  },
  {
   "cell_type": "code",
   "execution_count": 104,
   "metadata": {},
   "outputs": [
    {
     "data": {
      "text/html": [
       "<div>\n",
       "<style scoped>\n",
       "    .dataframe tbody tr th:only-of-type {\n",
       "        vertical-align: middle;\n",
       "    }\n",
       "\n",
       "    .dataframe tbody tr th {\n",
       "        vertical-align: top;\n",
       "    }\n",
       "\n",
       "    .dataframe thead th {\n",
       "        text-align: right;\n",
       "    }\n",
       "</style>\n",
       "<table border=\"1\" class=\"dataframe\">\n",
       "  <thead>\n",
       "    <tr style=\"text-align: right;\">\n",
       "      <th></th>\n",
       "      <th>movie_name</th>\n",
       "      <th>production_year</th>\n",
       "      <th>movie_odid</th>\n",
       "      <th>production_budget</th>\n",
       "      <th>domestic_box_office</th>\n",
       "      <th>international_box_office</th>\n",
       "      <th>rating</th>\n",
       "      <th>creative_type</th>\n",
       "      <th>source</th>\n",
       "      <th>production_method</th>\n",
       "      <th>genre</th>\n",
       "      <th>sequel</th>\n",
       "      <th>averagerating</th>\n",
       "    </tr>\n",
       "  </thead>\n",
       "  <tbody>\n",
       "    <tr>\n",
       "      <th>0</th>\n",
       "      <td>Madea's Family Reunion</td>\n",
       "      <td>2006</td>\n",
       "      <td>8220100</td>\n",
       "      <td>10000000</td>\n",
       "      <td>63257940</td>\n",
       "      <td>62581</td>\n",
       "      <td>PG-13</td>\n",
       "      <td>Contemporary Fiction</td>\n",
       "      <td>Based on Play</td>\n",
       "      <td>Live Action</td>\n",
       "      <td>Comedy</td>\n",
       "      <td>1.0</td>\n",
       "      <td>8.3</td>\n",
       "    </tr>\n",
       "    <tr>\n",
       "      <th>1</th>\n",
       "      <td>Krrish</td>\n",
       "      <td>2006</td>\n",
       "      <td>58540100</td>\n",
       "      <td>10000000</td>\n",
       "      <td>1430721</td>\n",
       "      <td>31000000</td>\n",
       "      <td>Not Rated</td>\n",
       "      <td>Science Fiction</td>\n",
       "      <td>Original Screenplay</td>\n",
       "      <td>Live Action</td>\n",
       "      <td>Action</td>\n",
       "      <td>1.0</td>\n",
       "      <td>8.9</td>\n",
       "    </tr>\n",
       "    <tr>\n",
       "      <th>2</th>\n",
       "      <td>End of the Spear</td>\n",
       "      <td>2006</td>\n",
       "      <td>34620100</td>\n",
       "      <td>10000000</td>\n",
       "      <td>11748661</td>\n",
       "      <td>175380</td>\n",
       "      <td>PG-13</td>\n",
       "      <td>Historical Fiction</td>\n",
       "      <td>Original Screenplay</td>\n",
       "      <td>Live Action</td>\n",
       "      <td>Drama</td>\n",
       "      <td>0.0</td>\n",
       "      <td>6.4</td>\n",
       "    </tr>\n",
       "    <tr>\n",
       "      <th>3</th>\n",
       "      <td>A Prairie Home Companion</td>\n",
       "      <td>2006</td>\n",
       "      <td>24910100</td>\n",
       "      <td>10000000</td>\n",
       "      <td>20342852</td>\n",
       "      <td>6373339</td>\n",
       "      <td>PG-13</td>\n",
       "      <td>Contemporary Fiction</td>\n",
       "      <td>Original Screenplay</td>\n",
       "      <td>Live Action</td>\n",
       "      <td>Comedy</td>\n",
       "      <td>0.0</td>\n",
       "      <td>4.2</td>\n",
       "    </tr>\n",
       "    <tr>\n",
       "      <th>4</th>\n",
       "      <td>Saw III</td>\n",
       "      <td>2006</td>\n",
       "      <td>5840100</td>\n",
       "      <td>10000000</td>\n",
       "      <td>80238724</td>\n",
       "      <td>83638091</td>\n",
       "      <td>R</td>\n",
       "      <td>Contemporary Fiction</td>\n",
       "      <td>Original Screenplay</td>\n",
       "      <td>Live Action</td>\n",
       "      <td>Horror</td>\n",
       "      <td>1.0</td>\n",
       "      <td>6.5</td>\n",
       "    </tr>\n",
       "    <tr>\n",
       "      <th>...</th>\n",
       "      <td>...</td>\n",
       "      <td>...</td>\n",
       "      <td>...</td>\n",
       "      <td>...</td>\n",
       "      <td>...</td>\n",
       "      <td>...</td>\n",
       "      <td>...</td>\n",
       "      <td>...</td>\n",
       "      <td>...</td>\n",
       "      <td>...</td>\n",
       "      <td>...</td>\n",
       "      <td>...</td>\n",
       "      <td>...</td>\n",
       "    </tr>\n",
       "    <tr>\n",
       "      <th>1931</th>\n",
       "      <td>The Nutcracker and the Four Realms</td>\n",
       "      <td>2018</td>\n",
       "      <td>298170100</td>\n",
       "      <td>132900000</td>\n",
       "      <td>54858851</td>\n",
       "      <td>115435048</td>\n",
       "      <td>PG</td>\n",
       "      <td>Fantasy</td>\n",
       "      <td>Based on Folk Tale/Legend/Fairytale</td>\n",
       "      <td>Live Action</td>\n",
       "      <td>Adventure</td>\n",
       "      <td>0.0</td>\n",
       "      <td>8.3</td>\n",
       "    </tr>\n",
       "    <tr>\n",
       "      <th>1932</th>\n",
       "      <td>Aquaman</td>\n",
       "      <td>2018</td>\n",
       "      <td>213100100</td>\n",
       "      <td>160000000</td>\n",
       "      <td>333804251</td>\n",
       "      <td>805605026</td>\n",
       "      <td>PG-13</td>\n",
       "      <td>Super Hero</td>\n",
       "      <td>Based on Comic/Graphic Novel</td>\n",
       "      <td>Live Action</td>\n",
       "      <td>Action</td>\n",
       "      <td>0.0</td>\n",
       "      <td>5.6</td>\n",
       "    </tr>\n",
       "    <tr>\n",
       "      <th>1933</th>\n",
       "      <td>Ralph Breaks The Internet</td>\n",
       "      <td>2018</td>\n",
       "      <td>263730100</td>\n",
       "      <td>175000000</td>\n",
       "      <td>200236625</td>\n",
       "      <td>319167373</td>\n",
       "      <td>PG</td>\n",
       "      <td>Kids Fiction</td>\n",
       "      <td>Original Screenplay</td>\n",
       "      <td>Digital Animation</td>\n",
       "      <td>Adventure</td>\n",
       "      <td>1.0</td>\n",
       "      <td>5.8</td>\n",
       "    </tr>\n",
       "    <tr>\n",
       "      <th>1934</th>\n",
       "      <td>Mission: Impossible—Fallout</td>\n",
       "      <td>2018</td>\n",
       "      <td>248680100</td>\n",
       "      <td>178000000</td>\n",
       "      <td>220159104</td>\n",
       "      <td>567297448</td>\n",
       "      <td>PG-13</td>\n",
       "      <td>Contemporary Fiction</td>\n",
       "      <td>Based on TV</td>\n",
       "      <td>Live Action</td>\n",
       "      <td>Action</td>\n",
       "      <td>1.0</td>\n",
       "      <td>5.1</td>\n",
       "    </tr>\n",
       "    <tr>\n",
       "      <th>1935</th>\n",
       "      <td>Fantastic Beasts: The Crimes of Grindelwald</td>\n",
       "      <td>2018</td>\n",
       "      <td>222990100</td>\n",
       "      <td>200000000</td>\n",
       "      <td>159555901</td>\n",
       "      <td>492664185</td>\n",
       "      <td>PG-13</td>\n",
       "      <td>Fantasy</td>\n",
       "      <td>Spin-Off</td>\n",
       "      <td>Live Action</td>\n",
       "      <td>Adventure</td>\n",
       "      <td>1.0</td>\n",
       "      <td>6.0</td>\n",
       "    </tr>\n",
       "  </tbody>\n",
       "</table>\n",
       "<p>1921 rows × 13 columns</p>\n",
       "</div>"
      ],
      "text/plain": [
       "                                       movie_name  production_year   \n",
       "0                          Madea's Family Reunion             2006  \\\n",
       "1                                          Krrish             2006   \n",
       "2                                End of the Spear             2006   \n",
       "3                        A Prairie Home Companion             2006   \n",
       "4                                         Saw III             2006   \n",
       "...                                           ...              ...   \n",
       "1931           The Nutcracker and the Four Realms             2018   \n",
       "1932                                      Aquaman             2018   \n",
       "1933                    Ralph Breaks The Internet             2018   \n",
       "1934                  Mission: Impossible—Fallout             2018   \n",
       "1935  Fantastic Beasts: The Crimes of Grindelwald             2018   \n",
       "\n",
       "      movie_odid  production_budget  domestic_box_office   \n",
       "0        8220100           10000000             63257940  \\\n",
       "1       58540100           10000000              1430721   \n",
       "2       34620100           10000000             11748661   \n",
       "3       24910100           10000000             20342852   \n",
       "4        5840100           10000000             80238724   \n",
       "...          ...                ...                  ...   \n",
       "1931   298170100          132900000             54858851   \n",
       "1932   213100100          160000000            333804251   \n",
       "1933   263730100          175000000            200236625   \n",
       "1934   248680100          178000000            220159104   \n",
       "1935   222990100          200000000            159555901   \n",
       "\n",
       "      international_box_office     rating         creative_type   \n",
       "0                        62581      PG-13  Contemporary Fiction  \\\n",
       "1                     31000000  Not Rated       Science Fiction   \n",
       "2                       175380      PG-13    Historical Fiction   \n",
       "3                      6373339      PG-13  Contemporary Fiction   \n",
       "4                     83638091          R  Contemporary Fiction   \n",
       "...                        ...        ...                   ...   \n",
       "1931                 115435048         PG               Fantasy   \n",
       "1932                 805605026      PG-13            Super Hero   \n",
       "1933                 319167373         PG          Kids Fiction   \n",
       "1934                 567297448      PG-13  Contemporary Fiction   \n",
       "1935                 492664185      PG-13               Fantasy   \n",
       "\n",
       "                                   source  production_method      genre   \n",
       "0                           Based on Play        Live Action     Comedy  \\\n",
       "1                     Original Screenplay        Live Action     Action   \n",
       "2                     Original Screenplay        Live Action      Drama   \n",
       "3                     Original Screenplay        Live Action     Comedy   \n",
       "4                     Original Screenplay        Live Action     Horror   \n",
       "...                                   ...                ...        ...   \n",
       "1931  Based on Folk Tale/Legend/Fairytale        Live Action  Adventure   \n",
       "1932         Based on Comic/Graphic Novel        Live Action     Action   \n",
       "1933                  Original Screenplay  Digital Animation  Adventure   \n",
       "1934                          Based on TV        Live Action     Action   \n",
       "1935                             Spin-Off        Live Action  Adventure   \n",
       "\n",
       "      sequel  averagerating  \n",
       "0        1.0            8.3  \n",
       "1        1.0            8.9  \n",
       "2        0.0            6.4  \n",
       "3        0.0            4.2  \n",
       "4        1.0            6.5  \n",
       "...      ...            ...  \n",
       "1931     0.0            8.3  \n",
       "1932     0.0            5.6  \n",
       "1933     1.0            5.8  \n",
       "1934     1.0            5.1  \n",
       "1935     1.0            6.0  \n",
       "\n",
       "[1921 rows x 13 columns]"
      ]
     },
     "execution_count": 104,
     "metadata": {},
     "output_type": "execute_result"
    }
   ],
   "source": [
    "# Then we add the ratings data to the column\n",
    "# The averagerating is based on number of votes so it shows which type of films are usually highly rated by fans.\n",
    "movie_data['averagerating'] = ratings_data['averagerating']\n",
    "movie_data"
   ]
  },
  {
   "cell_type": "code",
   "execution_count": 105,
   "metadata": {},
   "outputs": [
    {
     "data": {
      "text/plain": [
       "genre\n",
       "Documentary            7.060000\n",
       "Musical                6.588000\n",
       "Comedy                 6.400631\n",
       "Adventure              6.352395\n",
       "Western                6.346667\n",
       "comedy                 6.300000\n",
       "Thriller/Suspense      6.294783\n",
       "Action                 6.225890\n",
       "Drama                  6.222814\n",
       "Romantic Comedy        6.198780\n",
       "Horror                 6.158654\n",
       "Black Comedy           6.125000\n",
       "Concert/Performance    6.016667\n",
       "Name: averagerating, dtype: float64"
      ]
     },
     "execution_count": 105,
     "metadata": {},
     "output_type": "execute_result"
    }
   ],
   "source": [
    "# We then group the data by the averagerating of each genre\n",
    "genre_avg_rating = movie_data.groupby('genre')['averagerating'].mean().sort_values(ascending=False)\n",
    "genre_avg_rating"
   ]
  },
  {
   "cell_type": "code",
   "execution_count": 106,
   "metadata": {},
   "outputs": [
    {
     "data": {
      "text/plain": [
       "{'Documentary': 7.06,\n",
       " 'Musical': 6.587999999999999,\n",
       " 'Comedy': 6.400630914826499,\n",
       " 'Adventure': 6.352395209580838,\n",
       " 'Western': 6.346666666666667,\n",
       " 'comedy': 6.3,\n",
       " 'Thriller/Suspense': 6.294782608695652,\n",
       " 'Action': 6.22588996763754,\n",
       " 'Drama': 6.222814498933902,\n",
       " 'Romantic Comedy': 6.1987804878048784,\n",
       " 'Horror': 6.158653846153846,\n",
       " 'Black Comedy': 6.125,\n",
       " 'Concert/Performance': 6.016666666666667}"
      ]
     },
     "execution_count": 106,
     "metadata": {},
     "output_type": "execute_result"
    }
   ],
   "source": [
    "# Making a dictionary of the data to use for plotting of the bargraph.\n",
    "dictionary_of_average_rating = dict(genre_avg_rating)\n",
    "dictionary_of_average_rating"
   ]
  },
  {
   "cell_type": "code",
   "execution_count": 107,
   "metadata": {},
   "outputs": [
    {
     "data": {
      "image/png": "[encoded data removed]",
      "text/plain": [
       "<Figure size 2000x2000 with 1 Axes>"
      ]
     },
     "metadata": {},
     "output_type": "display_data"
    }
   ],
   "source": [
    "# PLotting the bargraph using matplotlib\n",
    "plt.figure(figsize=(20, 20))\n",
    "plt.bar(dictionary_of_average_rating.keys(), dictionary_of_average_rating.values())\n",
    "plt.xlabel('Genre')\n",
    "plt.ylabel('Average_rating')\n",
    "plt.xticks(rotation=45);"
   ]
  },
  {
   "attachments": {},
   "cell_type": "markdown",
   "metadata": {},
   "source": [
    "    **The graph above answers the question on the averagerating of each type of film in the box office**"
   ]
  },
  {
   "attachments": {},
   "cell_type": "markdown",
   "metadata": {},
   "source": [
    "### It is important to note here that fans usually rate documentaries the highest followed by musicals and finally comedies."
   ]
  },
  {
   "attachments": {},
   "cell_type": "markdown",
   "metadata": {},
   "source": [
    "### Our question on the averagerating of each type of films in the box office has then been answered."
   ]
  },
  {
   "attachments": {},
   "cell_type": "markdown",
   "metadata": {},
   "source": [
    "Now our next question is:\n",
    "- What is the average earning domestically and internationally for each type of movie in the box office."
   ]
  },
  {
   "cell_type": "code",
   "execution_count": 108,
   "metadata": {},
   "outputs": [
    {
     "data": {
      "text/plain": [
       "production_method\n",
       "Animation/Live Action          3.564530e+08\n",
       "Digital Animation              2.038378e+08\n",
       "Hand Animation                 8.800624e+07\n",
       "Live Action                    7.430179e+07\n",
       "Stop-Motion Animation          5.445610e+07\n",
       "Multiple Production Methods    2.232429e+07\n",
       "Rotoscoping                    1.903468e+06\n",
       "Name: international_box_office, dtype: float64"
      ]
     },
     "execution_count": 108,
     "metadata": {},
     "output_type": "execute_result"
    }
   ],
   "source": [
    "# We begin by getting the average international box office for each production method.\n",
    "production_stats = movie_data.groupby('production_method')['international_box_office'].mean()\n",
    "production_stats.sort_values(ascending=False)"
   ]
  },
  {
   "cell_type": "code",
   "execution_count": 109,
   "metadata": {},
   "outputs": [
    {
     "data": {
      "text/plain": [
       "{'Animation/Live Action': 356453013.8271605,\n",
       " 'Digital Animation': 203837754.76870748,\n",
       " 'Hand Animation': 88006241.83333333,\n",
       " 'Live Action': 74301787.66288783,\n",
       " 'Multiple Production Methods': 22324294.0,\n",
       " 'Rotoscoping': 1903468.0,\n",
       " 'Stop-Motion Animation': 54456101.777777776}"
      ]
     },
     "execution_count": 109,
     "metadata": {},
     "output_type": "execute_result"
    }
   ],
   "source": [
    "# We then make a dictionary of the values.\n",
    "dictionary_of_production_stats = dict(production_stats)\n",
    "dictionary_of_production_stats"
   ]
  },
  {
   "cell_type": "code",
   "execution_count": 114,
   "metadata": {},
   "outputs": [
    {
     "data": {
      "image/png": "[encoded data removed]",
      "text/plain": [
       "<Figure size 2000x2000 with 1 Axes>"
      ]
     },
     "metadata": {},
     "output_type": "display_data"
    }
   ],
   "source": [
    "# Using this data in the dictionary we can then plot a bargraph representing this data.\n",
    "plt.figure(figsize=(20, 20))\n",
    "plt.bar(dictionary_of_production_stats.keys(), dictionary_of_production_stats.values());\n",
    "plt.xlabel('Production Method')\n",
    "plt.ylabel('Average Money earned in International box office')\n",
    "plt.ticklabel_format(style='plain', axis='y')  # This is for removing the scale in the y-axis.\n",
    "plt.xticks(rotation=45);"
   ]
  },
  {
   "attachments": {},
   "cell_type": "markdown",
   "metadata": {},
   "source": [
    "    **Bar graph above shows the average earnings on an international level for each type of production method.**"
   ]
  },
  {
   "cell_type": "code",
   "execution_count": 111,
   "metadata": {},
   "outputs": [
    {
     "data": {
      "text/plain": [
       "production_method\n",
       "Animation/Live Action          1.926091e+08\n",
       "Digital Animation              1.196725e+08\n",
       "Live Action                    5.417872e+07\n",
       "Stop-Motion Animation          3.834834e+07\n",
       "Hand Animation                 2.798345e+07\n",
       "Multiple Production Methods    8.840453e+06\n",
       "Rotoscoping                    5.501616e+06\n",
       "Name: domestic_box_office, dtype: float64"
      ]
     },
     "execution_count": 111,
     "metadata": {},
     "output_type": "execute_result"
    }
   ],
   "source": [
    "# We then do the same for the domestic box office for each production method.\n",
    "production_stats = movie_data.groupby('production_method')['domestic_box_office'].mean()\n",
    "production_stats.sort_values(ascending=False)"
   ]
  },
  {
   "cell_type": "code",
   "execution_count": 112,
   "metadata": {},
   "outputs": [
    {
     "data": {
      "text/plain": [
       "{'Animation/Live Action': 192609093.32098764,\n",
       " 'Digital Animation': 119672460.69387755,\n",
       " 'Hand Animation': 27983448.333333332,\n",
       " 'Live Action': 54178715.76610979,\n",
       " 'Multiple Production Methods': 8840453.0,\n",
       " 'Rotoscoping': 5501616.0,\n",
       " 'Stop-Motion Animation': 38348336.88888889}"
      ]
     },
     "execution_count": 112,
     "metadata": {},
     "output_type": "execute_result"
    }
   ],
   "source": [
    "# We then make a dictionary of the values.\n",
    "dictionary_of_production_stats = dict(production_stats)\n",
    "dictionary_of_production_stats"
   ]
  },
  {
   "cell_type": "code",
   "execution_count": 115,
   "metadata": {},
   "outputs": [
    {
     "data": {
      "image/png": "[encoded data removed]",
      "text/plain": [
       "<Figure size 2000x2000 with 1 Axes>"
      ]
     },
     "metadata": {},
     "output_type": "display_data"
    }
   ],
   "source": [
    "# Using this data in the dictionary we can then plot a bargraph representing this data.\n",
    "plt.figure(figsize=(20, 20))\n",
    "plt.bar(dictionary_of_production_stats.keys(), dictionary_of_production_stats.values())\n",
    "plt.xlabel('Production Method')\n",
    "plt.ylabel('Average money earned in Domestic box office')\n",
    "plt.ticklabel_format(style='plain', axis='y')  # This is for removing the scale in the y-axis.\n",
    "plt.xticks(rotation=45);"
   ]
  },
  {
   "attachments": {},
   "cell_type": "markdown",
   "metadata": {},
   "source": [
    "    **Bar graph above shows the average earnings on a domestic level for each type of production method.**"
   ]
  },
  {
   "attachments": {},
   "cell_type": "markdown",
   "metadata": {},
   "source": [
    "### With these 2 bargraphs we can see that the 3 type of production methods which have earned the highest average in the box office locally and internationally are Animation/Live Action, Digital Animation and Hand Animation."
   ]
  },
  {
   "attachments": {},
   "cell_type": "markdown",
   "metadata": {},
   "source": [
    "### The question of the average earnings for each production method in the box office internationally and domestically have thus been answered."
   ]
  },
  {
   "attachments": {},
   "cell_type": "markdown",
   "metadata": {},
   "source": []
  }
 ],
 "metadata": {
  "kernelspec": {
   "display_name": "Python (learn-env)",
   "language": "python",
   "name": "learn-env"
  },
  "language_info": {
   "codemirror_mode": {
    "name": "ipython",
    "version": 3
   },
   "file_extension": ".py",
   "mimetype": "text/x-python",
   "name": "python",
   "nbconvert_exporter": "python",
   "pygments_lexer": "ipython3",
   "version": "3.10.11"
  }
 },
 "nbformat": 4,
 "nbformat_minor": 2
}
